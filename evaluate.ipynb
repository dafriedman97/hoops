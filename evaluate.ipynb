{
 "cells": [
  {
   "cell_type": "code",
   "execution_count": 1,
   "id": "a491a6f8-818e-4206-a360-c0b70594327d",
   "metadata": {},
   "outputs": [],
   "source": [
    "import pandas as pd\n",
    "import os\n",
    "import sys\n",
    "from collections import defaultdict\n",
    "from pathlib import Path\n",
    "import numpy as np\n",
    "import json\n",
    "import ipdb\n",
    "import importlib\n",
    "import matplotlib.pyplot as plt\n",
    "import seaborn as sns\n",
    "from sklearn.model_selection import train_test_split, GridSearchCV, RandomizedSearchCV, StratifiedKFold\n",
    "from xgboost import XGBClassifier\n",
    "\n",
    "hoops_dir = Path(\"/Users/danielfriedman/Desktop/hoops\")\n",
    "data_dir = hoops_dir / \"data\"\n",
    "sys.path.append(hoops_dir.as_posix())\n",
    "\n",
    "pd.set_option(\"display.max_columns\", 100)\n",
    "pd.set_option(\"display.max_rows\", 30)\n",
    "\n",
    "from pipeline import team_metadata, score_by_score, rank, playstats, merge\n",
    "\n"
   ]
  },
  {
   "cell_type": "code",
   "execution_count": 138,
   "id": "b329d294-e14c-4efb-bfbf-58fd4a63c0d5",
   "metadata": {},
   "outputs": [
    {
     "data": {
      "text/html": [
       "<div>\n",
       "<style scoped>\n",
       "    .dataframe tbody tr th:only-of-type {\n",
       "        vertical-align: middle;\n",
       "    }\n",
       "\n",
       "    .dataframe tbody tr th {\n",
       "        vertical-align: top;\n",
       "    }\n",
       "\n",
       "    .dataframe thead th {\n",
       "        text-align: right;\n",
       "    }\n",
       "</style>\n",
       "<table border=\"1\" class=\"dataframe\">\n",
       "  <thead>\n",
       "    <tr style=\"text-align: right;\">\n",
       "      <th></th>\n",
       "      <th>game_id</th>\n",
       "      <th>date</th>\n",
       "      <th>home</th>\n",
       "      <th>vis</th>\n",
       "      <th>time</th>\n",
       "      <th>home_score</th>\n",
       "      <th>vis_score</th>\n",
       "      <th>home_win</th>\n",
       "    </tr>\n",
       "  </thead>\n",
       "  <tbody>\n",
       "    <tr>\n",
       "      <th>0</th>\n",
       "      <td>22100624</td>\n",
       "      <td>2022-01-12</td>\n",
       "      <td>UTA</td>\n",
       "      <td>CLE</td>\n",
       "      <td>0.00</td>\n",
       "      <td>0</td>\n",
       "      <td>0</td>\n",
       "      <td>False</td>\n",
       "    </tr>\n",
       "    <tr>\n",
       "      <th>1</th>\n",
       "      <td>22100624</td>\n",
       "      <td>2022-01-12</td>\n",
       "      <td>UTA</td>\n",
       "      <td>CLE</td>\n",
       "      <td>1.83</td>\n",
       "      <td>0</td>\n",
       "      <td>2</td>\n",
       "      <td>False</td>\n",
       "    </tr>\n",
       "    <tr>\n",
       "      <th>2</th>\n",
       "      <td>22100624</td>\n",
       "      <td>2022-01-12</td>\n",
       "      <td>UTA</td>\n",
       "      <td>CLE</td>\n",
       "      <td>2.25</td>\n",
       "      <td>0</td>\n",
       "      <td>4</td>\n",
       "      <td>False</td>\n",
       "    </tr>\n",
       "    <tr>\n",
       "      <th>3</th>\n",
       "      <td>22100624</td>\n",
       "      <td>2022-01-12</td>\n",
       "      <td>UTA</td>\n",
       "      <td>CLE</td>\n",
       "      <td>2.60</td>\n",
       "      <td>2</td>\n",
       "      <td>4</td>\n",
       "      <td>False</td>\n",
       "    </tr>\n",
       "    <tr>\n",
       "      <th>4</th>\n",
       "      <td>22100624</td>\n",
       "      <td>2022-01-12</td>\n",
       "      <td>UTA</td>\n",
       "      <td>CLE</td>\n",
       "      <td>2.87</td>\n",
       "      <td>2</td>\n",
       "      <td>6</td>\n",
       "      <td>False</td>\n",
       "    </tr>\n",
       "  </tbody>\n",
       "</table>\n",
       "</div>"
      ],
      "text/plain": [
       "    game_id        date home  vis  time  home_score  vis_score  home_win\n",
       "0  22100624  2022-01-12  UTA  CLE  0.00           0          0     False\n",
       "1  22100624  2022-01-12  UTA  CLE  1.83           0          2     False\n",
       "2  22100624  2022-01-12  UTA  CLE  2.25           0          4     False\n",
       "3  22100624  2022-01-12  UTA  CLE  2.60           2          4     False\n",
       "4  22100624  2022-01-12  UTA  CLE  2.87           2          6     False"
      ]
     },
     "execution_count": 138,
     "metadata": {},
     "output_type": "execute_result"
    }
   ],
   "source": [
    "eval_season = \"2021-22\"\n",
    "# sbs = pd.read_csv(data_dir / \"score_by_score\" / (eval_season + \".csv\"))\n",
    "sbs_ = pd.read_csv(data_dir / \"score_by_score\" / (eval_season + \".csv\"))\n",
    "sbs.head()"
   ]
  },
  {
   "cell_type": "code",
   "execution_count": 139,
   "id": "6f453a07-097b-4aac-b165-f5d8b2cad5a8",
   "metadata": {},
   "outputs": [],
   "source": [
    "sbs.to_csv(data_dir / \"score_by_score\" / (eval_season + \".csv\"), index=False)"
   ]
  },
  {
   "cell_type": "code",
   "execution_count": 140,
   "id": "ffb54c37-837a-41a5-acd8-be60216f27e4",
   "metadata": {},
   "outputs": [
    {
     "data": {
      "text/plain": [
       "'2022-03-08'"
      ]
     },
     "execution_count": 140,
     "metadata": {},
     "output_type": "execute_result"
    }
   ],
   "source": [
    "sbs.date.max()"
   ]
  },
  {
   "cell_type": "code",
   "execution_count": 141,
   "id": "9404f289-d964-4012-9532-2ca97a126631",
   "metadata": {},
   "outputs": [
    {
     "data": {
      "text/plain": [
       "(112607, 8)"
      ]
     },
     "execution_count": 141,
     "metadata": {},
     "output_type": "execute_result"
    }
   ],
   "source": [
    "sbs.shape"
   ]
  },
  {
   "cell_type": "code",
   "execution_count": 142,
   "id": "9db3907e-893f-4f30-9350-d5adc3a822fd",
   "metadata": {},
   "outputs": [
    {
     "data": {
      "text/plain": [
       "(112607, 8)"
      ]
     },
     "execution_count": 142,
     "metadata": {},
     "output_type": "execute_result"
    }
   ],
   "source": [
    "sbs_.shape"
   ]
  }
 ],
 "metadata": {
  "kernelspec": {
   "display_name": "Python 3 (ipykernel)",
   "language": "python",
   "name": "python3"
  },
  "language_info": {
   "codemirror_mode": {
    "name": "ipython",
    "version": 3
   },
   "file_extension": ".py",
   "mimetype": "text/x-python",
   "name": "python",
   "nbconvert_exporter": "python",
   "pygments_lexer": "ipython3",
   "version": "3.9.7"
  }
 },
 "nbformat": 4,
 "nbformat_minor": 5
}
