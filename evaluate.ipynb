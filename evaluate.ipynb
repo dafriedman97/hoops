{
 "cells": [
  {
   "cell_type": "code",
   "execution_count": 1,
   "id": "a491a6f8-818e-4206-a360-c0b70594327d",
   "metadata": {},
   "outputs": [],
   "source": [
    "import pandas as pd\n",
    "import os\n",
    "import sys\n",
    "from collections import defaultdict\n",
    "from pathlib import Path\n",
    "import numpy as np\n",
    "import json\n",
    "import ipdb\n",
    "import importlib\n",
    "import matplotlib.pyplot as plt\n",
    "import seaborn as sns\n",
    "from sklearn.model_selection import train_test_split, GridSearchCV, RandomizedSearchCV, StratifiedKFold\n",
    "from xgboost import XGBClassifier\n",
    "\n",
    "hoops_dir = Path(\"/Users/danielfriedman/Desktop/hoops\")\n",
    "data_dir = hoops_dir / \"data\"\n",
    "sys.path.append(hoops_dir.as_posix())\n",
    "\n",
    "pd.set_option(\"display.max_columns\", 100)\n",
    "pd.set_option(\"display.max_rows\", 30)\n",
    "\n",
    "from pipeline import team_metadata, score_by_score, rank, playstats, merge\n",
    "\n"
   ]
  },
  {
   "cell_type": "code",
   "execution_count": 145,
   "id": "b329d294-e14c-4efb-bfbf-58fd4a63c0d5",
   "metadata": {},
   "outputs": [],
   "source": [
    "eval_season = \"2021-22\"\n",
    "sbs = pd.read_csv(data_dir / \"score_by_score\" / (eval_season + \".csv\"))\n",
    "playstats = pd.read_csv(data_dir / \"playstats\" / (eval_season + \".csv\"))\n",
    "rankings = pd.read_csv(data_dir / \"rankings\" / (eval_season + \".csv\"))"
   ]
  },
  {
   "cell_type": "code",
   "execution_count": null,
   "id": "7500c33e-a39c-4d61-9310-09e79e435d33",
   "metadata": {},
   "outputs": [],
   "source": []
  }
 ],
 "metadata": {
  "kernelspec": {
   "display_name": "Python 3 (ipykernel)",
   "language": "python",
   "name": "python3"
  },
  "language_info": {
   "codemirror_mode": {
    "name": "ipython",
    "version": 3
   },
   "file_extension": ".py",
   "mimetype": "text/x-python",
   "name": "python",
   "nbconvert_exporter": "python",
   "pygments_lexer": "ipython3",
   "version": "3.9.7"
  }
 },
 "nbformat": 4,
 "nbformat_minor": 5
}
