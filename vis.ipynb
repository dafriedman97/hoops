{
 "cells": [
  {
   "cell_type": "code",
   "execution_count": 348,
   "id": "a491a6f8-818e-4206-a360-c0b70594327d",
   "metadata": {},
   "outputs": [],
   "source": [
    "import pandas as pd\n",
    "import os\n",
    "import sys\n",
    "from collections import defaultdict\n",
    "from pathlib import Path\n",
    "import numpy as np\n",
    "import pickle\n",
    "import json\n",
    "import ipdb\n",
    "import importlib\n",
    "import matplotlib.pyplot as plt\n",
    "import seaborn as sns\n",
    "import plotly.express as px\n",
    "import plotly.graph_objects as go\n",
    "import plotly.io as pio\n",
    "from tensorflow import keras\n",
    "\n",
    "hoops_dir = Path(\"/Users/danielfriedman/Desktop/hoops\")\n",
    "data_dir = hoops_dir / \"data\"\n",
    "\n",
    "pd.set_option(\"display.max_columns\", 100)\n",
    "pd.set_option(\"display.max_rows\", 30)\n"
   ]
  },
  {
   "cell_type": "code",
   "execution_count": 84,
   "id": "b329d294-e14c-4efb-bfbf-58fd4a63c0d5",
   "metadata": {},
   "outputs": [],
   "source": [
    "season = \"2021-22\"\n",
    "sbs = pd.read_csv(data_dir / \"score_by_score\" / (eval_season + \".csv\"))\n",
    "playstats = pd.read_csv(data_dir / \"playstats\" / (eval_season + \".csv\"))\n",
    "rankings = pd.read_csv(data_dir / \"rankings\" / (eval_season + \".csv\"))\n"
   ]
  },
  {
   "cell_type": "code",
   "execution_count": 86,
   "id": "8f9555a6-d092-43c1-98db-64098707ec3d",
   "metadata": {},
   "outputs": [],
   "source": [
    "model = keras.models.load_model(hoops_dir / \"model/models/16_32_8|2|3|2.5e-06|home_lead_time_left_home_ranking_vis_ranking_home_lead_pml\")\n",
    "scaler = pickle.load(open(hoops_dir / \"model/scalers/16_32_8|2|3|2.5e-06|home_lead_time_left_home_ranking_vis_ranking_home_lead_pml\", \"rb\"))\n"
   ]
  },
  {
   "cell_type": "code",
   "execution_count": 602,
   "id": "d6521966-05b1-40b5-8ac6-0182759e119f",
   "metadata": {},
   "outputs": [],
   "source": [
    "sbs_reg = sbs.loc[sbs['time'] < 48].copy(deep=True)\n",
    "features = ['home_lead', 'log_time_left', 'home_ranking', 'vis_ranking', 'home_lead_per_root_minute']\n",
    "sbs_reg['home_lead'] = sbs_reg['home_score'] - sbs_reg['vis_score']\n",
    "sbs_reg['log_time_left'] = np.log(48 - sbs_reg['time'])\n",
    "sbs_reg['ppm'] = (sbs_reg['home_score'] + sbs_reg['vis_score']) / sbs_reg['time']\n",
    "sbs_reg['home_lead_per_root_minute'] = sbs_reg['home_lead'] / np.sqrt(48-sbs_reg['time'])\n",
    "sbs_reg['formatted_time'] = \"Q\" + (1 + sbs_reg.time // 12).astype(int).astype(str) + \" \" + (sbs_reg.time % 12 // 1).astype(int).astype(str) + \":\" + (60*(sbs_reg.time % 12 % 1)).astype(int).astype(str)\n"
   ]
  },
  {
   "cell_type": "code",
   "execution_count": 603,
   "id": "5c125daf-f015-469c-8252-9710f94ae9e9",
   "metadata": {},
   "outputs": [
    {
     "data": {
      "text/html": [
       "<div>\n",
       "<style scoped>\n",
       "    .dataframe tbody tr th:only-of-type {\n",
       "        vertical-align: middle;\n",
       "    }\n",
       "\n",
       "    .dataframe tbody tr th {\n",
       "        vertical-align: top;\n",
       "    }\n",
       "\n",
       "    .dataframe thead th {\n",
       "        text-align: right;\n",
       "    }\n",
       "</style>\n",
       "<table border=\"1\" class=\"dataframe\">\n",
       "  <thead>\n",
       "    <tr style=\"text-align: right;\">\n",
       "      <th></th>\n",
       "      <th>game_id</th>\n",
       "      <th>date</th>\n",
       "      <th>home</th>\n",
       "      <th>vis</th>\n",
       "      <th>time</th>\n",
       "      <th>home_score</th>\n",
       "      <th>vis_score</th>\n",
       "      <th>home_win</th>\n",
       "      <th>home_lead</th>\n",
       "      <th>log_time_left</th>\n",
       "      <th>ppm</th>\n",
       "      <th>home_lead_per_root_minute</th>\n",
       "      <th>formatted_time</th>\n",
       "    </tr>\n",
       "  </thead>\n",
       "  <tbody>\n",
       "    <tr>\n",
       "      <th>34320</th>\n",
       "      <td>22100915</td>\n",
       "      <td>2022-02-27</td>\n",
       "      <td>CHA</td>\n",
       "      <td>DET</td>\n",
       "      <td>0.0</td>\n",
       "      <td>0</td>\n",
       "      <td>0</td>\n",
       "      <td>False</td>\n",
       "      <td>0</td>\n",
       "      <td>3.871201</td>\n",
       "      <td>NaN</td>\n",
       "      <td>0.0</td>\n",
       "      <td>Q1 0:0</td>\n",
       "    </tr>\n",
       "    <tr>\n",
       "      <th>77873</th>\n",
       "      <td>22100926</td>\n",
       "      <td>2022-03-01</td>\n",
       "      <td>WAS</td>\n",
       "      <td>DET</td>\n",
       "      <td>0.0</td>\n",
       "      <td>0</td>\n",
       "      <td>0</td>\n",
       "      <td>True</td>\n",
       "      <td>0</td>\n",
       "      <td>3.871201</td>\n",
       "      <td>NaN</td>\n",
       "      <td>0.0</td>\n",
       "      <td>Q1 0:0</td>\n",
       "    </tr>\n",
       "    <tr>\n",
       "      <th>90780</th>\n",
       "      <td>22100942</td>\n",
       "      <td>2022-03-03</td>\n",
       "      <td>TOR</td>\n",
       "      <td>DET</td>\n",
       "      <td>0.0</td>\n",
       "      <td>0</td>\n",
       "      <td>0</td>\n",
       "      <td>False</td>\n",
       "      <td>0</td>\n",
       "      <td>3.871201</td>\n",
       "      <td>NaN</td>\n",
       "      <td>0.0</td>\n",
       "      <td>Q1 0:0</td>\n",
       "    </tr>\n",
       "    <tr>\n",
       "      <th>109623</th>\n",
       "      <td>22100946</td>\n",
       "      <td>2022-03-04</td>\n",
       "      <td>DET</td>\n",
       "      <td>IND</td>\n",
       "      <td>0.0</td>\n",
       "      <td>0</td>\n",
       "      <td>0</td>\n",
       "      <td>True</td>\n",
       "      <td>0</td>\n",
       "      <td>3.871201</td>\n",
       "      <td>NaN</td>\n",
       "      <td>0.0</td>\n",
       "      <td>Q1 0:0</td>\n",
       "    </tr>\n",
       "    <tr>\n",
       "      <th>97299</th>\n",
       "      <td>22100968</td>\n",
       "      <td>2022-03-07</td>\n",
       "      <td>DET</td>\n",
       "      <td>ATL</td>\n",
       "      <td>0.0</td>\n",
       "      <td>0</td>\n",
       "      <td>0</td>\n",
       "      <td>True</td>\n",
       "      <td>0</td>\n",
       "      <td>3.871201</td>\n",
       "      <td>NaN</td>\n",
       "      <td>0.0</td>\n",
       "      <td>Q1 0:0</td>\n",
       "    </tr>\n",
       "  </tbody>\n",
       "</table>\n",
       "</div>"
      ],
      "text/plain": [
       "         game_id        date home  vis  time  home_score  vis_score  home_win  \\\n",
       "34320   22100915  2022-02-27  CHA  DET   0.0           0          0     False   \n",
       "77873   22100926  2022-03-01  WAS  DET   0.0           0          0      True   \n",
       "90780   22100942  2022-03-03  TOR  DET   0.0           0          0     False   \n",
       "109623  22100946  2022-03-04  DET  IND   0.0           0          0      True   \n",
       "97299   22100968  2022-03-07  DET  ATL   0.0           0          0      True   \n",
       "\n",
       "        home_lead  log_time_left  ppm  home_lead_per_root_minute  \\\n",
       "34320           0       3.871201  NaN                        0.0   \n",
       "77873           0       3.871201  NaN                        0.0   \n",
       "90780           0       3.871201  NaN                        0.0   \n",
       "109623          0       3.871201  NaN                        0.0   \n",
       "97299           0       3.871201  NaN                        0.0   \n",
       "\n",
       "       formatted_time  \n",
       "34320          Q1 0:0  \n",
       "77873          Q1 0:0  \n",
       "90780          Q1 0:0  \n",
       "109623         Q1 0:0  \n",
       "97299          Q1 0:0  "
      ]
     },
     "execution_count": 603,
     "metadata": {},
     "output_type": "execute_result"
    }
   ],
   "source": [
    "sbs_reg.loc[(sbs_reg['home'] == \"DET\") | (sbs_reg['vis'] == \"DET\")].drop_duplicates('game_id').sort_values(\"date\").tail()"
   ]
  },
  {
   "cell_type": "code",
   "execution_count": 620,
   "id": "7500c33e-a39c-4d61-9310-09e79e435d33",
   "metadata": {},
   "outputs": [],
   "source": [
    "gameid = 22100946\n",
    "game_sbs = sbs_reg.loc[sbs_reg['game_id'] == gameid].reset_index(drop=True).copy(deep=True)\n",
    "last_event = game_sbs.iloc[-1]\n",
    "home, vis, game_date, home_score, vis_score = last_event[['home', 'vis', 'date', 'home_score', 'vis_score']]\n",
    "home_ranking = rankings.loc[(rankings['date'] == game_date) & (rankings['team'] == home), 'ranking']\n",
    "vis_ranking = rankings.loc[(rankings['date'] == game_date) & (rankings['team'] == vis), 'ranking']\n",
    "game_sbs['home_ranking'] = home_ranking.iloc[0]\n",
    "game_sbs['vis_ranking'] = vis_ranking.iloc[0]\n",
    "game_features = scaler.transform(game_sbs[features].to_numpy())\n",
    "home_probs = model.predict(game_features)[:,0].round(3)\n",
    "\n",
    "# Put in terms of winner\n",
    "winner = home if home_score > vis_score else vis\n",
    "winner_probs = home_probs if winner == home else 1-home_probs\n",
    "winner_lead = game_sbs['home_lead'] if winner == home else 1-game_sbs['home_lead']"
   ]
  },
  {
   "cell_type": "code",
   "execution_count": 622,
   "id": "d2b7a4c2-02d6-47a9-81b9-a8c3578def66",
   "metadata": {},
   "outputs": [
    {
     "data": {
      "application/vnd.plotly.v1+json": {
       "config": {
        "plotlyServerURL": "https://plot.ly"
       },
       "data": [
        {
         "customdata": [
          [
           "Q1 0:0"
          ],
          [
           "Q1 0:16"
          ],
          [
           "Q1 0:49"
          ],
          [
           "Q1 1:11"
          ],
          [
           "Q1 1:36"
          ],
          [
           "Q1 2:0"
          ],
          [
           "Q1 2:10"
          ],
          [
           "Q1 2:31"
          ],
          [
           "Q1 2:52"
          ],
          [
           "Q1 3:2"
          ],
          [
           "Q1 3:38"
          ],
          [
           "Q1 3:55"
          ],
          [
           "Q1 4:10"
          ],
          [
           "Q1 4:34"
          ],
          [
           "Q1 4:50"
          ],
          [
           "Q1 5:25"
          ],
          [
           "Q1 5:35"
          ],
          [
           "Q1 5:54"
          ],
          [
           "Q1 6:28"
          ],
          [
           "Q1 6:45"
          ],
          [
           "Q1 6:55"
          ],
          [
           "Q1 7:9"
          ],
          [
           "Q1 7:49"
          ],
          [
           "Q1 8:7"
          ],
          [
           "Q1 8:19"
          ],
          [
           "Q1 8:19"
          ],
          [
           "Q1 8:55"
          ],
          [
           "Q1 9:13"
          ],
          [
           "Q1 9:37"
          ],
          [
           "Q1 10:19"
          ],
          [
           "Q1 10:41"
          ],
          [
           "Q1 10:50"
          ],
          [
           "Q1 11:31"
          ],
          [
           "Q1 11:43"
          ],
          [
           "Q2 0:0"
          ],
          [
           "Q2 0:18"
          ],
          [
           "Q2 0:45"
          ],
          [
           "Q2 1:11"
          ],
          [
           "Q2 1:39"
          ],
          [
           "Q2 2:5"
          ],
          [
           "Q2 2:22"
          ],
          [
           "Q2 3:16"
          ],
          [
           "Q2 3:34"
          ],
          [
           "Q2 3:49"
          ],
          [
           "Q2 4:0"
          ],
          [
           "Q2 4:0"
          ],
          [
           "Q2 4:21"
          ],
          [
           "Q2 4:34"
          ],
          [
           "Q2 4:49"
          ],
          [
           "Q2 4:58"
          ],
          [
           "Q2 4:58"
          ],
          [
           "Q2 5:55"
          ],
          [
           "Q2 6:8"
          ],
          [
           "Q2 6:46"
          ],
          [
           "Q2 8:1"
          ],
          [
           "Q2 8:7"
          ],
          [
           "Q2 8:46"
          ],
          [
           "Q2 9:1"
          ],
          [
           "Q2 9:51"
          ],
          [
           "Q2 10:55"
          ],
          [
           "Q2 11:25"
          ],
          [
           "Q2 11:46"
          ],
          [
           "Q3 0:13"
          ],
          [
           "Q3 1:1"
          ],
          [
           "Q3 1:16"
          ],
          [
           "Q3 1:16"
          ],
          [
           "Q3 1:55"
          ],
          [
           "Q3 2:38"
          ],
          [
           "Q3 2:58"
          ],
          [
           "Q3 3:49"
          ],
          [
           "Q3 4:38"
          ],
          [
           "Q3 5:0"
          ],
          [
           "Q3 5:21"
          ],
          [
           "Q3 5:43"
          ],
          [
           "Q3 6:13"
          ],
          [
           "Q3 6:58"
          ],
          [
           "Q3 7:16"
          ],
          [
           "Q3 8:8"
          ],
          [
           "Q3 8:43"
          ],
          [
           "Q3 9:6"
          ],
          [
           "Q3 9:16"
          ],
          [
           "Q3 9:16"
          ],
          [
           "Q3 10:13"
          ],
          [
           "Q3 10:25"
          ],
          [
           "Q3 11:1"
          ],
          [
           "Q3 11:23"
          ],
          [
           "Q3 11:28"
          ],
          [
           "Q4 0:0"
          ],
          [
           "Q4 0:31"
          ],
          [
           "Q4 1:13"
          ],
          [
           "Q4 1:49"
          ],
          [
           "Q4 1:58"
          ],
          [
           "Q4 2:52"
          ],
          [
           "Q4 3:10"
          ],
          [
           "Q4 3:51"
          ],
          [
           "Q4 3:51"
          ],
          [
           "Q4 4:28"
          ],
          [
           "Q4 5:58"
          ],
          [
           "Q4 6:10"
          ],
          [
           "Q4 7:25"
          ],
          [
           "Q4 7:25"
          ],
          [
           "Q4 7:51"
          ],
          [
           "Q4 8:43"
          ],
          [
           "Q4 9:4"
          ],
          [
           "Q4 9:23"
          ],
          [
           "Q4 10:19"
          ],
          [
           "Q4 10:34"
          ],
          [
           "Q4 10:51"
          ],
          [
           "Q4 11:40"
          ],
          [
           "Q4 11:40"
          ],
          [
           "Q4 11:49"
          ],
          [
           "Q4 11:49"
          ]
         ],
         "hovertemplate": "Time: %{customdata.0} <br>DET Win Prob: %{y} <br>DET Lead: %{marker.color}",
         "legendgroup": "",
         "marker": {
          "color": [
           0,
           -2,
           -4,
           -2,
           -4,
           -5,
           -3,
           -1,
           2,
           0,
           -2,
           -1,
           -3,
           0,
           2,
           5,
           2,
           4,
           7,
           5,
           7,
           5,
           7,
           4,
           5,
           6,
           7,
           9,
           12,
           10,
           12,
           9,
           7,
           9,
           7,
           10,
           7,
           9,
           12,
           15,
           12,
           15,
           13,
           15,
           13,
           12,
           14,
           12,
           14,
           13,
           12,
           10,
           12,
           10,
           9,
           6,
           4,
           6,
           3,
           5,
           4,
           3,
           5,
           2,
           4,
           3,
           7,
           5,
           7,
           5,
           7,
           9,
           7,
           6,
           4,
           2,
           -1,
           1,
           0,
           2,
           1,
           0,
           2,
           0,
           -2,
           1,
           -1,
           1,
           4,
           2,
           0,
           -1,
           0,
           -2,
           -4,
           -3,
           -5,
           -3,
           0,
           -2,
           -1,
           -1,
           -4,
           -6,
           -3,
           0,
           -1,
           1,
           2,
           3,
           5,
           4
          ],
          "coloraxis": "coloraxis",
          "line": {
           "width": 1
          },
          "opacity": 0.75,
          "size": 8,
          "symbol": "circle"
         },
         "mode": "markers",
         "name": "",
         "orientation": "v",
         "showlegend": false,
         "type": "scatter",
         "x": [
          0,
          0.27,
          0.83,
          1.2,
          1.6,
          2,
          2.18,
          2.52,
          2.87,
          3.05,
          3.65,
          3.92,
          4.17,
          4.58,
          4.85,
          5.42,
          5.6,
          5.9,
          6.48,
          6.75,
          6.93,
          7.15,
          7.83,
          8.12,
          8.33,
          8.33,
          8.92,
          9.22,
          9.62,
          10.33,
          10.7,
          10.85,
          11.53,
          11.72,
          12,
          12.3,
          12.75,
          13.2,
          13.65,
          14.1,
          14.38,
          15.28,
          15.58,
          15.82,
          16,
          16,
          16.35,
          16.57,
          16.83,
          16.97,
          16.97,
          17.93,
          18.15,
          18.77,
          20.02,
          20.12,
          20.78,
          21.03,
          21.85,
          22.92,
          23.43,
          23.78,
          24.23,
          25.03,
          25.27,
          25.27,
          25.93,
          26.65,
          26.98,
          27.83,
          28.65,
          29,
          29.35,
          29.72,
          30.23,
          30.97,
          31.28,
          32.15,
          32.73,
          33.1,
          33.28,
          33.28,
          34.22,
          34.42,
          35.02,
          35.4,
          35.47,
          36,
          36.53,
          37.23,
          37.83,
          37.97,
          38.88,
          39.18,
          39.85,
          39.85,
          40.48,
          41.97,
          42.17,
          43.42,
          43.42,
          43.85,
          44.73,
          45.08,
          45.4,
          46.33,
          46.57,
          46.85,
          47.68,
          47.68,
          47.83,
          47.83
         ],
         "xaxis": "x",
         "y": [
          0.45100000500679016,
          0.4129999876022339,
          0.38100001215934753,
          0.41100001335144043,
          0.3790000081062317,
          0.3659999966621399,
          0.3919999897480011,
          0.42899999022483826,
          0.48899999260902405,
          0.4490000009536743,
          0.40799999237060547,
          0.42800000309944153,
          0.3889999985694885,
          0.4480000138282776,
          0.48899999260902405,
          0.5450000166893005,
          0.48899999260902405,
          0.5210000276565552,
          0.6019999980926514,
          0.5460000038146973,
          0.6029999852180481,
          0.5460000038146973,
          0.6039999723434448,
          0.5220000147819519,
          0.5460000038146973,
          0.5730000138282776,
          0.6050000190734863,
          0.671999990940094,
          0.7609999775886536,
          0.7099999785423279,
          0.765999972820282,
          0.6790000200271606,
          0.6119999885559082,
          0.6830000281333923,
          0.6140000224113464,
          0.7179999947547913,
          0.6159999966621399,
          0.6890000104904175,
          0.777999997138977,
          0.8379999995231628,
          0.781000018119812,
          0.8420000076293945,
          0.8059999942779541,
          0.843999981880188,
          0.8080000281333923,
          0.7870000004768372,
          0.828000009059906,
          0.7900000214576721,
          0.8299999833106995,
          0.8119999766349792,
          0.7910000085830688,
          0.7450000047683716,
          0.7960000038146973,
          0.75,
          0.7239999771118164,
          0.6110000014305115,
          0.5429999828338623,
          0.6159999966621399,
          0.5149999856948853,
          0.5860000252723694,
          0.5540000200271606,
          0.5199999809265137,
          0.593999981880188,
          0.49300000071525574,
          0.5630000233650208,
          0.5260000228881836,
          0.6880000233650208,
          0.6100000143051147,
          0.6959999799728394,
          0.6190000176429749,
          0.7089999914169312,
          0.7799999713897705,
          0.7139999866485596,
          0.6769999861717224,
          0.5929999947547913,
          0.5199999809265137,
          0.41600000858306885,
          0.4909999966621399,
          0.4580000042915344,
          0.5329999923706055,
          0.4970000088214874,
          0.460999995470047,
          0.5419999957084656,
          0.46700000762939453,
          0.38100001215934753,
          0.5109999775886536,
          0.42800000309944153,
          0.5149999856948853,
          0.6539999842643738,
          0.5680000185966492,
          0.48100000619888306,
          0.42899999022483826,
          0.48399999737739563,
          0.36500000953674316,
          0.2619999945163727,
          0.3100000023841858,
          0.2150000035762787,
          0.29499998688697815,
          0.4860000014305115,
          0.3409999907016754,
          0.41100001335144043,
          0.4090000092983246,
          0.20600000023841858,
          0.11299999803304672,
          0.24699999392032623,
          0.5019999742507935,
          0.3790000081062317,
          0.6430000066757202,
          0.8859999775886536,
          0.9539999961853027,
          0.9990000128746033,
          0.9959999918937683
         ],
         "yaxis": "y"
        },
        {
         "hovertemplate": "Time: %{customdata.0} <br>DET Win Prob: %{y} <br>DET Lead: %{marker.color}",
         "legendgroup": "",
         "line": {
          "color": "gray",
          "dash": "solid"
         },
         "marker": {
          "line": {
           "width": 1
          },
          "opacity": 0.75,
          "size": 8,
          "symbol": "circle"
         },
         "mode": "lines",
         "name": "",
         "orientation": "v",
         "showlegend": false,
         "type": "scatter",
         "x": [
          0,
          0.27,
          0.83,
          1.2,
          1.6,
          2,
          2.18,
          2.52,
          2.87,
          3.05,
          3.65,
          3.92,
          4.17,
          4.58,
          4.85,
          5.42,
          5.6,
          5.9,
          6.48,
          6.75,
          6.93,
          7.15,
          7.83,
          8.12,
          8.33,
          8.33,
          8.92,
          9.22,
          9.62,
          10.33,
          10.7,
          10.85,
          11.53,
          11.72,
          12,
          12.3,
          12.75,
          13.2,
          13.65,
          14.1,
          14.38,
          15.28,
          15.58,
          15.82,
          16,
          16,
          16.35,
          16.57,
          16.83,
          16.97,
          16.97,
          17.93,
          18.15,
          18.77,
          20.02,
          20.12,
          20.78,
          21.03,
          21.85,
          22.92,
          23.43,
          23.78,
          24.23,
          25.03,
          25.27,
          25.27,
          25.93,
          26.65,
          26.98,
          27.83,
          28.65,
          29,
          29.35,
          29.72,
          30.23,
          30.97,
          31.28,
          32.15,
          32.73,
          33.1,
          33.28,
          33.28,
          34.22,
          34.42,
          35.02,
          35.4,
          35.47,
          36,
          36.53,
          37.23,
          37.83,
          37.97,
          38.88,
          39.18,
          39.85,
          39.85,
          40.48,
          41.97,
          42.17,
          43.42,
          43.42,
          43.85,
          44.73,
          45.08,
          45.4,
          46.33,
          46.57,
          46.85,
          47.68,
          47.68,
          47.83,
          47.83
         ],
         "xaxis": "x",
         "y": [
          0.45100000500679016,
          0.4129999876022339,
          0.38100001215934753,
          0.41100001335144043,
          0.3790000081062317,
          0.3659999966621399,
          0.3919999897480011,
          0.42899999022483826,
          0.48899999260902405,
          0.4490000009536743,
          0.40799999237060547,
          0.42800000309944153,
          0.3889999985694885,
          0.4480000138282776,
          0.48899999260902405,
          0.5450000166893005,
          0.48899999260902405,
          0.5210000276565552,
          0.6019999980926514,
          0.5460000038146973,
          0.6029999852180481,
          0.5460000038146973,
          0.6039999723434448,
          0.5220000147819519,
          0.5460000038146973,
          0.5730000138282776,
          0.6050000190734863,
          0.671999990940094,
          0.7609999775886536,
          0.7099999785423279,
          0.765999972820282,
          0.6790000200271606,
          0.6119999885559082,
          0.6830000281333923,
          0.6140000224113464,
          0.7179999947547913,
          0.6159999966621399,
          0.6890000104904175,
          0.777999997138977,
          0.8379999995231628,
          0.781000018119812,
          0.8420000076293945,
          0.8059999942779541,
          0.843999981880188,
          0.8080000281333923,
          0.7870000004768372,
          0.828000009059906,
          0.7900000214576721,
          0.8299999833106995,
          0.8119999766349792,
          0.7910000085830688,
          0.7450000047683716,
          0.7960000038146973,
          0.75,
          0.7239999771118164,
          0.6110000014305115,
          0.5429999828338623,
          0.6159999966621399,
          0.5149999856948853,
          0.5860000252723694,
          0.5540000200271606,
          0.5199999809265137,
          0.593999981880188,
          0.49300000071525574,
          0.5630000233650208,
          0.5260000228881836,
          0.6880000233650208,
          0.6100000143051147,
          0.6959999799728394,
          0.6190000176429749,
          0.7089999914169312,
          0.7799999713897705,
          0.7139999866485596,
          0.6769999861717224,
          0.5929999947547913,
          0.5199999809265137,
          0.41600000858306885,
          0.4909999966621399,
          0.4580000042915344,
          0.5329999923706055,
          0.4970000088214874,
          0.460999995470047,
          0.5419999957084656,
          0.46700000762939453,
          0.38100001215934753,
          0.5109999775886536,
          0.42800000309944153,
          0.5149999856948853,
          0.6539999842643738,
          0.5680000185966492,
          0.48100000619888306,
          0.42899999022483826,
          0.48399999737739563,
          0.36500000953674316,
          0.2619999945163727,
          0.3100000023841858,
          0.2150000035762787,
          0.29499998688697815,
          0.4860000014305115,
          0.3409999907016754,
          0.41100001335144043,
          0.4090000092983246,
          0.20600000023841858,
          0.11299999803304672,
          0.24699999392032623,
          0.5019999742507935,
          0.3790000081062317,
          0.6430000066757202,
          0.8859999775886536,
          0.9539999961853027,
          0.9990000128746033,
          0.9959999918937683
         ],
         "yaxis": "y"
        }
       ],
       "layout": {
        "coloraxis": {
         "cmax": 17,
         "cmin": -17,
         "colorbar": {
          "title": {
           "text": "DET Lead"
          }
         },
         "colorscale": [
          [
           0,
           "rgb(103,0,31)"
          ],
          [
           0.1,
           "rgb(178,24,43)"
          ],
          [
           0.2,
           "rgb(214,96,77)"
          ],
          [
           0.3,
           "rgb(244,165,130)"
          ],
          [
           0.4,
           "rgb(253,219,199)"
          ],
          [
           0.5,
           "rgb(247,247,247)"
          ],
          [
           0.6,
           "rgb(209,229,240)"
          ],
          [
           0.7,
           "rgb(146,197,222)"
          ],
          [
           0.8,
           "rgb(67,147,195)"
          ],
          [
           0.9,
           "rgb(33,102,172)"
          ],
          [
           1,
           "rgb(5,48,97)"
          ]
         ]
        },
        "height": 600,
        "shapes": [
         {
          "line": {
           "color": "gray",
           "dash": "dash",
           "width": 0.75
          },
          "type": "line",
          "x0": -3,
          "x1": 52,
          "y0": 0.5,
          "y1": 0.5
         }
        ],
        "template": {
         "data": {
          "bar": [
           {
            "error_x": {
             "color": "#2a3f5f"
            },
            "error_y": {
             "color": "#2a3f5f"
            },
            "marker": {
             "line": {
              "color": "#E5ECF6",
              "width": 0.5
             },
             "pattern": {
              "fillmode": "overlay",
              "size": 10,
              "solidity": 0.2
             }
            },
            "type": "bar"
           }
          ],
          "barpolar": [
           {
            "marker": {
             "line": {
              "color": "#E5ECF6",
              "width": 0.5
             },
             "pattern": {
              "fillmode": "overlay",
              "size": 10,
              "solidity": 0.2
             }
            },
            "type": "barpolar"
           }
          ],
          "carpet": [
           {
            "aaxis": {
             "endlinecolor": "#2a3f5f",
             "gridcolor": "white",
             "linecolor": "white",
             "minorgridcolor": "white",
             "startlinecolor": "#2a3f5f"
            },
            "baxis": {
             "endlinecolor": "#2a3f5f",
             "gridcolor": "white",
             "linecolor": "white",
             "minorgridcolor": "white",
             "startlinecolor": "#2a3f5f"
            },
            "type": "carpet"
           }
          ],
          "choropleth": [
           {
            "colorbar": {
             "outlinewidth": 0,
             "ticks": ""
            },
            "type": "choropleth"
           }
          ],
          "contour": [
           {
            "colorbar": {
             "outlinewidth": 0,
             "ticks": ""
            },
            "colorscale": [
             [
              0,
              "#0d0887"
             ],
             [
              0.1111111111111111,
              "#46039f"
             ],
             [
              0.2222222222222222,
              "#7201a8"
             ],
             [
              0.3333333333333333,
              "#9c179e"
             ],
             [
              0.4444444444444444,
              "#bd3786"
             ],
             [
              0.5555555555555556,
              "#d8576b"
             ],
             [
              0.6666666666666666,
              "#ed7953"
             ],
             [
              0.7777777777777778,
              "#fb9f3a"
             ],
             [
              0.8888888888888888,
              "#fdca26"
             ],
             [
              1,
              "#f0f921"
             ]
            ],
            "type": "contour"
           }
          ],
          "contourcarpet": [
           {
            "colorbar": {
             "outlinewidth": 0,
             "ticks": ""
            },
            "type": "contourcarpet"
           }
          ],
          "heatmap": [
           {
            "colorbar": {
             "outlinewidth": 0,
             "ticks": ""
            },
            "colorscale": [
             [
              0,
              "#0d0887"
             ],
             [
              0.1111111111111111,
              "#46039f"
             ],
             [
              0.2222222222222222,
              "#7201a8"
             ],
             [
              0.3333333333333333,
              "#9c179e"
             ],
             [
              0.4444444444444444,
              "#bd3786"
             ],
             [
              0.5555555555555556,
              "#d8576b"
             ],
             [
              0.6666666666666666,
              "#ed7953"
             ],
             [
              0.7777777777777778,
              "#fb9f3a"
             ],
             [
              0.8888888888888888,
              "#fdca26"
             ],
             [
              1,
              "#f0f921"
             ]
            ],
            "type": "heatmap"
           }
          ],
          "heatmapgl": [
           {
            "colorbar": {
             "outlinewidth": 0,
             "ticks": ""
            },
            "colorscale": [
             [
              0,
              "#0d0887"
             ],
             [
              0.1111111111111111,
              "#46039f"
             ],
             [
              0.2222222222222222,
              "#7201a8"
             ],
             [
              0.3333333333333333,
              "#9c179e"
             ],
             [
              0.4444444444444444,
              "#bd3786"
             ],
             [
              0.5555555555555556,
              "#d8576b"
             ],
             [
              0.6666666666666666,
              "#ed7953"
             ],
             [
              0.7777777777777778,
              "#fb9f3a"
             ],
             [
              0.8888888888888888,
              "#fdca26"
             ],
             [
              1,
              "#f0f921"
             ]
            ],
            "type": "heatmapgl"
           }
          ],
          "histogram": [
           {
            "marker": {
             "pattern": {
              "fillmode": "overlay",
              "size": 10,
              "solidity": 0.2
             }
            },
            "type": "histogram"
           }
          ],
          "histogram2d": [
           {
            "colorbar": {
             "outlinewidth": 0,
             "ticks": ""
            },
            "colorscale": [
             [
              0,
              "#0d0887"
             ],
             [
              0.1111111111111111,
              "#46039f"
             ],
             [
              0.2222222222222222,
              "#7201a8"
             ],
             [
              0.3333333333333333,
              "#9c179e"
             ],
             [
              0.4444444444444444,
              "#bd3786"
             ],
             [
              0.5555555555555556,
              "#d8576b"
             ],
             [
              0.6666666666666666,
              "#ed7953"
             ],
             [
              0.7777777777777778,
              "#fb9f3a"
             ],
             [
              0.8888888888888888,
              "#fdca26"
             ],
             [
              1,
              "#f0f921"
             ]
            ],
            "type": "histogram2d"
           }
          ],
          "histogram2dcontour": [
           {
            "colorbar": {
             "outlinewidth": 0,
             "ticks": ""
            },
            "colorscale": [
             [
              0,
              "#0d0887"
             ],
             [
              0.1111111111111111,
              "#46039f"
             ],
             [
              0.2222222222222222,
              "#7201a8"
             ],
             [
              0.3333333333333333,
              "#9c179e"
             ],
             [
              0.4444444444444444,
              "#bd3786"
             ],
             [
              0.5555555555555556,
              "#d8576b"
             ],
             [
              0.6666666666666666,
              "#ed7953"
             ],
             [
              0.7777777777777778,
              "#fb9f3a"
             ],
             [
              0.8888888888888888,
              "#fdca26"
             ],
             [
              1,
              "#f0f921"
             ]
            ],
            "type": "histogram2dcontour"
           }
          ],
          "mesh3d": [
           {
            "colorbar": {
             "outlinewidth": 0,
             "ticks": ""
            },
            "type": "mesh3d"
           }
          ],
          "parcoords": [
           {
            "line": {
             "colorbar": {
              "outlinewidth": 0,
              "ticks": ""
             }
            },
            "type": "parcoords"
           }
          ],
          "pie": [
           {
            "automargin": true,
            "type": "pie"
           }
          ],
          "scatter": [
           {
            "marker": {
             "colorbar": {
              "outlinewidth": 0,
              "ticks": ""
             }
            },
            "type": "scatter"
           }
          ],
          "scatter3d": [
           {
            "line": {
             "colorbar": {
              "outlinewidth": 0,
              "ticks": ""
             }
            },
            "marker": {
             "colorbar": {
              "outlinewidth": 0,
              "ticks": ""
             }
            },
            "type": "scatter3d"
           }
          ],
          "scattercarpet": [
           {
            "marker": {
             "colorbar": {
              "outlinewidth": 0,
              "ticks": ""
             }
            },
            "type": "scattercarpet"
           }
          ],
          "scattergeo": [
           {
            "marker": {
             "colorbar": {
              "outlinewidth": 0,
              "ticks": ""
             }
            },
            "type": "scattergeo"
           }
          ],
          "scattergl": [
           {
            "marker": {
             "colorbar": {
              "outlinewidth": 0,
              "ticks": ""
             }
            },
            "type": "scattergl"
           }
          ],
          "scattermapbox": [
           {
            "marker": {
             "colorbar": {
              "outlinewidth": 0,
              "ticks": ""
             }
            },
            "type": "scattermapbox"
           }
          ],
          "scatterpolar": [
           {
            "marker": {
             "colorbar": {
              "outlinewidth": 0,
              "ticks": ""
             }
            },
            "type": "scatterpolar"
           }
          ],
          "scatterpolargl": [
           {
            "marker": {
             "colorbar": {
              "outlinewidth": 0,
              "ticks": ""
             }
            },
            "type": "scatterpolargl"
           }
          ],
          "scatterternary": [
           {
            "marker": {
             "colorbar": {
              "outlinewidth": 0,
              "ticks": ""
             }
            },
            "type": "scatterternary"
           }
          ],
          "surface": [
           {
            "colorbar": {
             "outlinewidth": 0,
             "ticks": ""
            },
            "colorscale": [
             [
              0,
              "#0d0887"
             ],
             [
              0.1111111111111111,
              "#46039f"
             ],
             [
              0.2222222222222222,
              "#7201a8"
             ],
             [
              0.3333333333333333,
              "#9c179e"
             ],
             [
              0.4444444444444444,
              "#bd3786"
             ],
             [
              0.5555555555555556,
              "#d8576b"
             ],
             [
              0.6666666666666666,
              "#ed7953"
             ],
             [
              0.7777777777777778,
              "#fb9f3a"
             ],
             [
              0.8888888888888888,
              "#fdca26"
             ],
             [
              1,
              "#f0f921"
             ]
            ],
            "type": "surface"
           }
          ],
          "table": [
           {
            "cells": {
             "fill": {
              "color": "#EBF0F8"
             },
             "line": {
              "color": "white"
             }
            },
            "header": {
             "fill": {
              "color": "#C8D4E3"
             },
             "line": {
              "color": "white"
             }
            },
            "type": "table"
           }
          ]
         },
         "layout": {
          "annotationdefaults": {
           "arrowcolor": "#2a3f5f",
           "arrowhead": 0,
           "arrowwidth": 1
          },
          "autotypenumbers": "strict",
          "coloraxis": {
           "colorbar": {
            "outlinewidth": 0,
            "ticks": ""
           }
          },
          "colorscale": {
           "diverging": [
            [
             0,
             "#8e0152"
            ],
            [
             0.1,
             "#c51b7d"
            ],
            [
             0.2,
             "#de77ae"
            ],
            [
             0.3,
             "#f1b6da"
            ],
            [
             0.4,
             "#fde0ef"
            ],
            [
             0.5,
             "#f7f7f7"
            ],
            [
             0.6,
             "#e6f5d0"
            ],
            [
             0.7,
             "#b8e186"
            ],
            [
             0.8,
             "#7fbc41"
            ],
            [
             0.9,
             "#4d9221"
            ],
            [
             1,
             "#276419"
            ]
           ],
           "sequential": [
            [
             0,
             "#0d0887"
            ],
            [
             0.1111111111111111,
             "#46039f"
            ],
            [
             0.2222222222222222,
             "#7201a8"
            ],
            [
             0.3333333333333333,
             "#9c179e"
            ],
            [
             0.4444444444444444,
             "#bd3786"
            ],
            [
             0.5555555555555556,
             "#d8576b"
            ],
            [
             0.6666666666666666,
             "#ed7953"
            ],
            [
             0.7777777777777778,
             "#fb9f3a"
            ],
            [
             0.8888888888888888,
             "#fdca26"
            ],
            [
             1,
             "#f0f921"
            ]
           ],
           "sequentialminus": [
            [
             0,
             "#0d0887"
            ],
            [
             0.1111111111111111,
             "#46039f"
            ],
            [
             0.2222222222222222,
             "#7201a8"
            ],
            [
             0.3333333333333333,
             "#9c179e"
            ],
            [
             0.4444444444444444,
             "#bd3786"
            ],
            [
             0.5555555555555556,
             "#d8576b"
            ],
            [
             0.6666666666666666,
             "#ed7953"
            ],
            [
             0.7777777777777778,
             "#fb9f3a"
            ],
            [
             0.8888888888888888,
             "#fdca26"
            ],
            [
             1,
             "#f0f921"
            ]
           ]
          },
          "colorway": [
           "#636efa",
           "#EF553B",
           "#00cc96",
           "#ab63fa",
           "#FFA15A",
           "#19d3f3",
           "#FF6692",
           "#B6E880",
           "#FF97FF",
           "#FECB52"
          ],
          "font": {
           "color": "#2a3f5f"
          },
          "geo": {
           "bgcolor": "white",
           "lakecolor": "white",
           "landcolor": "#E5ECF6",
           "showlakes": true,
           "showland": true,
           "subunitcolor": "white"
          },
          "hoverlabel": {
           "align": "left"
          },
          "hovermode": "closest",
          "mapbox": {
           "style": "light"
          },
          "paper_bgcolor": "white",
          "plot_bgcolor": "#E5ECF6",
          "polar": {
           "angularaxis": {
            "gridcolor": "white",
            "linecolor": "white",
            "ticks": ""
           },
           "bgcolor": "#E5ECF6",
           "radialaxis": {
            "gridcolor": "white",
            "linecolor": "white",
            "ticks": ""
           }
          },
          "scene": {
           "xaxis": {
            "backgroundcolor": "#E5ECF6",
            "gridcolor": "white",
            "gridwidth": 2,
            "linecolor": "white",
            "showbackground": true,
            "ticks": "",
            "zerolinecolor": "white"
           },
           "yaxis": {
            "backgroundcolor": "#E5ECF6",
            "gridcolor": "white",
            "gridwidth": 2,
            "linecolor": "white",
            "showbackground": true,
            "ticks": "",
            "zerolinecolor": "white"
           },
           "zaxis": {
            "backgroundcolor": "#E5ECF6",
            "gridcolor": "white",
            "gridwidth": 2,
            "linecolor": "white",
            "showbackground": true,
            "ticks": "",
            "zerolinecolor": "white"
           }
          },
          "shapedefaults": {
           "line": {
            "color": "#2a3f5f"
           }
          },
          "ternary": {
           "aaxis": {
            "gridcolor": "white",
            "linecolor": "white",
            "ticks": ""
           },
           "baxis": {
            "gridcolor": "white",
            "linecolor": "white",
            "ticks": ""
           },
           "bgcolor": "#E5ECF6",
           "caxis": {
            "gridcolor": "white",
            "linecolor": "white",
            "ticks": ""
           }
          },
          "title": {
           "x": 0.05
          },
          "xaxis": {
           "automargin": true,
           "gridcolor": "white",
           "linecolor": "white",
           "ticks": "",
           "title": {
            "standoff": 15
           },
           "zerolinecolor": "white",
           "zerolinewidth": 2
          },
          "yaxis": {
           "automargin": true,
           "gridcolor": "white",
           "linecolor": "white",
           "ticks": "",
           "title": {
            "standoff": 15
           },
           "zerolinecolor": "white",
           "zerolinewidth": 2
          }
         }
        },
        "title": {
         "text": "DET In Game Win Probability - IND @ DET (2022-03-04)"
        },
        "width": 1000,
        "xaxis": {
         "autorange": true,
         "dtick": 12,
         "range": [
          -3.0986008230452673,
          52.02567901234568
         ],
         "tick0": 0,
         "tickmode": "linear",
         "title": {
          "text": "Time"
         },
         "type": "linear"
        },
        "yaxis": {
         "dtick": 0.1,
         "range": [
          -0.05,
          1.05
         ],
         "tick0": 0,
         "tickmode": "linear",
         "title": {
          "text": "DET Win Prob."
         },
         "type": "linear"
        }
       }
      },
      "image/png": "[encoded data removed]",
      "text/html": [
       "<div>                            <div id=\"d574e6d1-a077-44de-ae9b-2ff2528f517e\" class=\"plotly-graph-div\" style=\"height:600px; width:1000px;\"></div>            <script type=\"text/javascript\">                require([\"plotly\"], function(Plotly) {                    window.PLOTLYENV=window.PLOTLYENV || {};                                    if (document.getElementById(\"d574e6d1-a077-44de-ae9b-2ff2528f517e\")) {                    Plotly.newPlot(                        \"d574e6d1-a077-44de-ae9b-2ff2528f517e\",                        [{\"customdata\":[[\"Q1 0:0\"],[\"Q1 0:16\"],[\"Q1 0:49\"],[\"Q1 1:11\"],[\"Q1 1:36\"],[\"Q1 2:0\"],[\"Q1 2:10\"],[\"Q1 2:31\"],[\"Q1 2:52\"],[\"Q1 3:2\"],[\"Q1 3:38\"],[\"Q1 3:55\"],[\"Q1 4:10\"],[\"Q1 4:34\"],[\"Q1 4:50\"],[\"Q1 5:25\"],[\"Q1 5:35\"],[\"Q1 5:54\"],[\"Q1 6:28\"],[\"Q1 6:45\"],[\"Q1 6:55\"],[\"Q1 7:9\"],[\"Q1 7:49\"],[\"Q1 8:7\"],[\"Q1 8:19\"],[\"Q1 8:19\"],[\"Q1 8:55\"],[\"Q1 9:13\"],[\"Q1 9:37\"],[\"Q1 10:19\"],[\"Q1 10:41\"],[\"Q1 10:50\"],[\"Q1 11:31\"],[\"Q1 11:43\"],[\"Q2 0:0\"],[\"Q2 0:18\"],[\"Q2 0:45\"],[\"Q2 1:11\"],[\"Q2 1:39\"],[\"Q2 2:5\"],[\"Q2 2:22\"],[\"Q2 3:16\"],[\"Q2 3:34\"],[\"Q2 3:49\"],[\"Q2 4:0\"],[\"Q2 4:0\"],[\"Q2 4:21\"],[\"Q2 4:34\"],[\"Q2 4:49\"],[\"Q2 4:58\"],[\"Q2 4:58\"],[\"Q2 5:55\"],[\"Q2 6:8\"],[\"Q2 6:46\"],[\"Q2 8:1\"],[\"Q2 8:7\"],[\"Q2 8:46\"],[\"Q2 9:1\"],[\"Q2 9:51\"],[\"Q2 10:55\"],[\"Q2 11:25\"],[\"Q2 11:46\"],[\"Q3 0:13\"],[\"Q3 1:1\"],[\"Q3 1:16\"],[\"Q3 1:16\"],[\"Q3 1:55\"],[\"Q3 2:38\"],[\"Q3 2:58\"],[\"Q3 3:49\"],[\"Q3 4:38\"],[\"Q3 5:0\"],[\"Q3 5:21\"],[\"Q3 5:43\"],[\"Q3 6:13\"],[\"Q3 6:58\"],[\"Q3 7:16\"],[\"Q3 8:8\"],[\"Q3 8:43\"],[\"Q3 9:6\"],[\"Q3 9:16\"],[\"Q3 9:16\"],[\"Q3 10:13\"],[\"Q3 10:25\"],[\"Q3 11:1\"],[\"Q3 11:23\"],[\"Q3 11:28\"],[\"Q4 0:0\"],[\"Q4 0:31\"],[\"Q4 1:13\"],[\"Q4 1:49\"],[\"Q4 1:58\"],[\"Q4 2:52\"],[\"Q4 3:10\"],[\"Q4 3:51\"],[\"Q4 3:51\"],[\"Q4 4:28\"],[\"Q4 5:58\"],[\"Q4 6:10\"],[\"Q4 7:25\"],[\"Q4 7:25\"],[\"Q4 7:51\"],[\"Q4 8:43\"],[\"Q4 9:4\"],[\"Q4 9:23\"],[\"Q4 10:19\"],[\"Q4 10:34\"],[\"Q4 10:51\"],[\"Q4 11:40\"],[\"Q4 11:40\"],[\"Q4 11:49\"],[\"Q4 11:49\"]],\"hovertemplate\":\"Time: %{customdata.0} <br>DET Win Prob: %{y} <br>DET Lead: %{marker.color}\",\"legendgroup\":\"\",\"marker\":{\"color\":[0,-2,-4,-2,-4,-5,-3,-1,2,0,-2,-1,-3,0,2,5,2,4,7,5,7,5,7,4,5,6,7,9,12,10,12,9,7,9,7,10,7,9,12,15,12,15,13,15,13,12,14,12,14,13,12,10,12,10,9,6,4,6,3,5,4,3,5,2,4,3,7,5,7,5,7,9,7,6,4,2,-1,1,0,2,1,0,2,0,-2,1,-1,1,4,2,0,-1,0,-2,-4,-3,-5,-3,0,-2,-1,-1,-4,-6,-3,0,-1,1,2,3,5,4],\"coloraxis\":\"coloraxis\",\"symbol\":\"circle\",\"line\":{\"width\":1},\"opacity\":0.75,\"size\":8},\"mode\":\"markers\",\"name\":\"\",\"orientation\":\"v\",\"showlegend\":false,\"x\":[0.0,0.27,0.83,1.2,1.6,2.0,2.18,2.52,2.87,3.05,3.65,3.92,4.17,4.58,4.85,5.42,5.6,5.9,6.48,6.75,6.93,7.15,7.83,8.12,8.33,8.33,8.92,9.22,9.62,10.33,10.7,10.85,11.53,11.72,12.0,12.3,12.75,13.2,13.65,14.1,14.38,15.28,15.58,15.82,16.0,16.0,16.35,16.57,16.83,16.97,16.97,17.93,18.15,18.77,20.02,20.12,20.78,21.03,21.85,22.92,23.43,23.78,24.23,25.03,25.27,25.27,25.93,26.65,26.98,27.83,28.65,29.0,29.35,29.72,30.23,30.97,31.28,32.15,32.73,33.1,33.28,33.28,34.22,34.42,35.02,35.4,35.47,36.0,36.53,37.23,37.83,37.97,38.88,39.18,39.85,39.85,40.48,41.97,42.17,43.42,43.42,43.85,44.73,45.08,45.4,46.33,46.57,46.85,47.68,47.68,47.83,47.83],\"xaxis\":\"x\",\"y\":[0.45100000500679016,0.4129999876022339,0.38100001215934753,0.41100001335144043,0.3790000081062317,0.3659999966621399,0.3919999897480011,0.42899999022483826,0.48899999260902405,0.4490000009536743,0.40799999237060547,0.42800000309944153,0.3889999985694885,0.4480000138282776,0.48899999260902405,0.5450000166893005,0.48899999260902405,0.5210000276565552,0.6019999980926514,0.5460000038146973,0.6029999852180481,0.5460000038146973,0.6039999723434448,0.5220000147819519,0.5460000038146973,0.5730000138282776,0.6050000190734863,0.671999990940094,0.7609999775886536,0.7099999785423279,0.765999972820282,0.6790000200271606,0.6119999885559082,0.6830000281333923,0.6140000224113464,0.7179999947547913,0.6159999966621399,0.6890000104904175,0.777999997138977,0.8379999995231628,0.781000018119812,0.8420000076293945,0.8059999942779541,0.843999981880188,0.8080000281333923,0.7870000004768372,0.828000009059906,0.7900000214576721,0.8299999833106995,0.8119999766349792,0.7910000085830688,0.7450000047683716,0.7960000038146973,0.75,0.7239999771118164,0.6110000014305115,0.5429999828338623,0.6159999966621399,0.5149999856948853,0.5860000252723694,0.5540000200271606,0.5199999809265137,0.593999981880188,0.49300000071525574,0.5630000233650208,0.5260000228881836,0.6880000233650208,0.6100000143051147,0.6959999799728394,0.6190000176429749,0.7089999914169312,0.7799999713897705,0.7139999866485596,0.6769999861717224,0.5929999947547913,0.5199999809265137,0.41600000858306885,0.4909999966621399,0.4580000042915344,0.5329999923706055,0.4970000088214874,0.460999995470047,0.5419999957084656,0.46700000762939453,0.38100001215934753,0.5109999775886536,0.42800000309944153,0.5149999856948853,0.6539999842643738,0.5680000185966492,0.48100000619888306,0.42899999022483826,0.48399999737739563,0.36500000953674316,0.2619999945163727,0.3100000023841858,0.2150000035762787,0.29499998688697815,0.4860000014305115,0.3409999907016754,0.41100001335144043,0.4090000092983246,0.20600000023841858,0.11299999803304672,0.24699999392032623,0.5019999742507935,0.3790000081062317,0.6430000066757202,0.8859999775886536,0.9539999961853027,0.9990000128746033,0.9959999918937683],\"yaxis\":\"y\",\"type\":\"scatter\"},{\"hovertemplate\":\"Time: %{customdata.0} <br>DET Win Prob: %{y} <br>DET Lead: %{marker.color}\",\"legendgroup\":\"\",\"line\":{\"color\":\"gray\",\"dash\":\"solid\"},\"marker\":{\"symbol\":\"circle\",\"line\":{\"width\":1},\"opacity\":0.75,\"size\":8},\"mode\":\"lines\",\"name\":\"\",\"orientation\":\"v\",\"showlegend\":false,\"x\":[0.0,0.27,0.83,1.2,1.6,2.0,2.18,2.52,2.87,3.05,3.65,3.92,4.17,4.58,4.85,5.42,5.6,5.9,6.48,6.75,6.93,7.15,7.83,8.12,8.33,8.33,8.92,9.22,9.62,10.33,10.7,10.85,11.53,11.72,12.0,12.3,12.75,13.2,13.65,14.1,14.38,15.28,15.58,15.82,16.0,16.0,16.35,16.57,16.83,16.97,16.97,17.93,18.15,18.77,20.02,20.12,20.78,21.03,21.85,22.92,23.43,23.78,24.23,25.03,25.27,25.27,25.93,26.65,26.98,27.83,28.65,29.0,29.35,29.72,30.23,30.97,31.28,32.15,32.73,33.1,33.28,33.28,34.22,34.42,35.02,35.4,35.47,36.0,36.53,37.23,37.83,37.97,38.88,39.18,39.85,39.85,40.48,41.97,42.17,43.42,43.42,43.85,44.73,45.08,45.4,46.33,46.57,46.85,47.68,47.68,47.83,47.83],\"xaxis\":\"x\",\"y\":[0.45100000500679016,0.4129999876022339,0.38100001215934753,0.41100001335144043,0.3790000081062317,0.3659999966621399,0.3919999897480011,0.42899999022483826,0.48899999260902405,0.4490000009536743,0.40799999237060547,0.42800000309944153,0.3889999985694885,0.4480000138282776,0.48899999260902405,0.5450000166893005,0.48899999260902405,0.5210000276565552,0.6019999980926514,0.5460000038146973,0.6029999852180481,0.5460000038146973,0.6039999723434448,0.5220000147819519,0.5460000038146973,0.5730000138282776,0.6050000190734863,0.671999990940094,0.7609999775886536,0.7099999785423279,0.765999972820282,0.6790000200271606,0.6119999885559082,0.6830000281333923,0.6140000224113464,0.7179999947547913,0.6159999966621399,0.6890000104904175,0.777999997138977,0.8379999995231628,0.781000018119812,0.8420000076293945,0.8059999942779541,0.843999981880188,0.8080000281333923,0.7870000004768372,0.828000009059906,0.7900000214576721,0.8299999833106995,0.8119999766349792,0.7910000085830688,0.7450000047683716,0.7960000038146973,0.75,0.7239999771118164,0.6110000014305115,0.5429999828338623,0.6159999966621399,0.5149999856948853,0.5860000252723694,0.5540000200271606,0.5199999809265137,0.593999981880188,0.49300000071525574,0.5630000233650208,0.5260000228881836,0.6880000233650208,0.6100000143051147,0.6959999799728394,0.6190000176429749,0.7089999914169312,0.7799999713897705,0.7139999866485596,0.6769999861717224,0.5929999947547913,0.5199999809265137,0.41600000858306885,0.4909999966621399,0.4580000042915344,0.5329999923706055,0.4970000088214874,0.460999995470047,0.5419999957084656,0.46700000762939453,0.38100001215934753,0.5109999775886536,0.42800000309944153,0.5149999856948853,0.6539999842643738,0.5680000185966492,0.48100000619888306,0.42899999022483826,0.48399999737739563,0.36500000953674316,0.2619999945163727,0.3100000023841858,0.2150000035762787,0.29499998688697815,0.4860000014305115,0.3409999907016754,0.41100001335144043,0.4090000092983246,0.20600000023841858,0.11299999803304672,0.24699999392032623,0.5019999742507935,0.3790000081062317,0.6430000066757202,0.8859999775886536,0.9539999961853027,0.9990000128746033,0.9959999918937683],\"yaxis\":\"y\",\"type\":\"scatter\"}],                        {\"template\":{\"data\":{\"bar\":[{\"error_x\":{\"color\":\"#2a3f5f\"},\"error_y\":{\"color\":\"#2a3f5f\"},\"marker\":{\"line\":{\"color\":\"#E5ECF6\",\"width\":0.5},\"pattern\":{\"fillmode\":\"overlay\",\"size\":10,\"solidity\":0.2}},\"type\":\"bar\"}],\"barpolar\":[{\"marker\":{\"line\":{\"color\":\"#E5ECF6\",\"width\":0.5},\"pattern\":{\"fillmode\":\"overlay\",\"size\":10,\"solidity\":0.2}},\"type\":\"barpolar\"}],\"carpet\":[{\"aaxis\":{\"endlinecolor\":\"#2a3f5f\",\"gridcolor\":\"white\",\"linecolor\":\"white\",\"minorgridcolor\":\"white\",\"startlinecolor\":\"#2a3f5f\"},\"baxis\":{\"endlinecolor\":\"#2a3f5f\",\"gridcolor\":\"white\",\"linecolor\":\"white\",\"minorgridcolor\":\"white\",\"startlinecolor\":\"#2a3f5f\"},\"type\":\"carpet\"}],\"choropleth\":[{\"colorbar\":{\"outlinewidth\":0,\"ticks\":\"\"},\"type\":\"choropleth\"}],\"contour\":[{\"colorbar\":{\"outlinewidth\":0,\"ticks\":\"\"},\"colorscale\":[[0.0,\"#0d0887\"],[0.1111111111111111,\"#46039f\"],[0.2222222222222222,\"#7201a8\"],[0.3333333333333333,\"#9c179e\"],[0.4444444444444444,\"#bd3786\"],[0.5555555555555556,\"#d8576b\"],[0.6666666666666666,\"#ed7953\"],[0.7777777777777778,\"#fb9f3a\"],[0.8888888888888888,\"#fdca26\"],[1.0,\"#f0f921\"]],\"type\":\"contour\"}],\"contourcarpet\":[{\"colorbar\":{\"outlinewidth\":0,\"ticks\":\"\"},\"type\":\"contourcarpet\"}],\"heatmap\":[{\"colorbar\":{\"outlinewidth\":0,\"ticks\":\"\"},\"colorscale\":[[0.0,\"#0d0887\"],[0.1111111111111111,\"#46039f\"],[0.2222222222222222,\"#7201a8\"],[0.3333333333333333,\"#9c179e\"],[0.4444444444444444,\"#bd3786\"],[0.5555555555555556,\"#d8576b\"],[0.6666666666666666,\"#ed7953\"],[0.7777777777777778,\"#fb9f3a\"],[0.8888888888888888,\"#fdca26\"],[1.0,\"#f0f921\"]],\"type\":\"heatmap\"}],\"heatmapgl\":[{\"colorbar\":{\"outlinewidth\":0,\"ticks\":\"\"},\"colorscale\":[[0.0,\"#0d0887\"],[0.1111111111111111,\"#46039f\"],[0.2222222222222222,\"#7201a8\"],[0.3333333333333333,\"#9c179e\"],[0.4444444444444444,\"#bd3786\"],[0.5555555555555556,\"#d8576b\"],[0.6666666666666666,\"#ed7953\"],[0.7777777777777778,\"#fb9f3a\"],[0.8888888888888888,\"#fdca26\"],[1.0,\"#f0f921\"]],\"type\":\"heatmapgl\"}],\"histogram\":[{\"marker\":{\"pattern\":{\"fillmode\":\"overlay\",\"size\":10,\"solidity\":0.2}},\"type\":\"histogram\"}],\"histogram2d\":[{\"colorbar\":{\"outlinewidth\":0,\"ticks\":\"\"},\"colorscale\":[[0.0,\"#0d0887\"],[0.1111111111111111,\"#46039f\"],[0.2222222222222222,\"#7201a8\"],[0.3333333333333333,\"#9c179e\"],[0.4444444444444444,\"#bd3786\"],[0.5555555555555556,\"#d8576b\"],[0.6666666666666666,\"#ed7953\"],[0.7777777777777778,\"#fb9f3a\"],[0.8888888888888888,\"#fdca26\"],[1.0,\"#f0f921\"]],\"type\":\"histogram2d\"}],\"histogram2dcontour\":[{\"colorbar\":{\"outlinewidth\":0,\"ticks\":\"\"},\"colorscale\":[[0.0,\"#0d0887\"],[0.1111111111111111,\"#46039f\"],[0.2222222222222222,\"#7201a8\"],[0.3333333333333333,\"#9c179e\"],[0.4444444444444444,\"#bd3786\"],[0.5555555555555556,\"#d8576b\"],[0.6666666666666666,\"#ed7953\"],[0.7777777777777778,\"#fb9f3a\"],[0.8888888888888888,\"#fdca26\"],[1.0,\"#f0f921\"]],\"type\":\"histogram2dcontour\"}],\"mesh3d\":[{\"colorbar\":{\"outlinewidth\":0,\"ticks\":\"\"},\"type\":\"mesh3d\"}],\"parcoords\":[{\"line\":{\"colorbar\":{\"outlinewidth\":0,\"ticks\":\"\"}},\"type\":\"parcoords\"}],\"pie\":[{\"automargin\":true,\"type\":\"pie\"}],\"scatter\":[{\"marker\":{\"colorbar\":{\"outlinewidth\":0,\"ticks\":\"\"}},\"type\":\"scatter\"}],\"scatter3d\":[{\"line\":{\"colorbar\":{\"outlinewidth\":0,\"ticks\":\"\"}},\"marker\":{\"colorbar\":{\"outlinewidth\":0,\"ticks\":\"\"}},\"type\":\"scatter3d\"}],\"scattercarpet\":[{\"marker\":{\"colorbar\":{\"outlinewidth\":0,\"ticks\":\"\"}},\"type\":\"scattercarpet\"}],\"scattergeo\":[{\"marker\":{\"colorbar\":{\"outlinewidth\":0,\"ticks\":\"\"}},\"type\":\"scattergeo\"}],\"scattergl\":[{\"marker\":{\"colorbar\":{\"outlinewidth\":0,\"ticks\":\"\"}},\"type\":\"scattergl\"}],\"scattermapbox\":[{\"marker\":{\"colorbar\":{\"outlinewidth\":0,\"ticks\":\"\"}},\"type\":\"scattermapbox\"}],\"scatterpolar\":[{\"marker\":{\"colorbar\":{\"outlinewidth\":0,\"ticks\":\"\"}},\"type\":\"scatterpolar\"}],\"scatterpolargl\":[{\"marker\":{\"colorbar\":{\"outlinewidth\":0,\"ticks\":\"\"}},\"type\":\"scatterpolargl\"}],\"scatterternary\":[{\"marker\":{\"colorbar\":{\"outlinewidth\":0,\"ticks\":\"\"}},\"type\":\"scatterternary\"}],\"surface\":[{\"colorbar\":{\"outlinewidth\":0,\"ticks\":\"\"},\"colorscale\":[[0.0,\"#0d0887\"],[0.1111111111111111,\"#46039f\"],[0.2222222222222222,\"#7201a8\"],[0.3333333333333333,\"#9c179e\"],[0.4444444444444444,\"#bd3786\"],[0.5555555555555556,\"#d8576b\"],[0.6666666666666666,\"#ed7953\"],[0.7777777777777778,\"#fb9f3a\"],[0.8888888888888888,\"#fdca26\"],[1.0,\"#f0f921\"]],\"type\":\"surface\"}],\"table\":[{\"cells\":{\"fill\":{\"color\":\"#EBF0F8\"},\"line\":{\"color\":\"white\"}},\"header\":{\"fill\":{\"color\":\"#C8D4E3\"},\"line\":{\"color\":\"white\"}},\"type\":\"table\"}]},\"layout\":{\"annotationdefaults\":{\"arrowcolor\":\"#2a3f5f\",\"arrowhead\":0,\"arrowwidth\":1},\"autotypenumbers\":\"strict\",\"coloraxis\":{\"colorbar\":{\"outlinewidth\":0,\"ticks\":\"\"}},\"colorscale\":{\"diverging\":[[0,\"#8e0152\"],[0.1,\"#c51b7d\"],[0.2,\"#de77ae\"],[0.3,\"#f1b6da\"],[0.4,\"#fde0ef\"],[0.5,\"#f7f7f7\"],[0.6,\"#e6f5d0\"],[0.7,\"#b8e186\"],[0.8,\"#7fbc41\"],[0.9,\"#4d9221\"],[1,\"#276419\"]],\"sequential\":[[0.0,\"#0d0887\"],[0.1111111111111111,\"#46039f\"],[0.2222222222222222,\"#7201a8\"],[0.3333333333333333,\"#9c179e\"],[0.4444444444444444,\"#bd3786\"],[0.5555555555555556,\"#d8576b\"],[0.6666666666666666,\"#ed7953\"],[0.7777777777777778,\"#fb9f3a\"],[0.8888888888888888,\"#fdca26\"],[1.0,\"#f0f921\"]],\"sequentialminus\":[[0.0,\"#0d0887\"],[0.1111111111111111,\"#46039f\"],[0.2222222222222222,\"#7201a8\"],[0.3333333333333333,\"#9c179e\"],[0.4444444444444444,\"#bd3786\"],[0.5555555555555556,\"#d8576b\"],[0.6666666666666666,\"#ed7953\"],[0.7777777777777778,\"#fb9f3a\"],[0.8888888888888888,\"#fdca26\"],[1.0,\"#f0f921\"]]},\"colorway\":[\"#636efa\",\"#EF553B\",\"#00cc96\",\"#ab63fa\",\"#FFA15A\",\"#19d3f3\",\"#FF6692\",\"#B6E880\",\"#FF97FF\",\"#FECB52\"],\"font\":{\"color\":\"#2a3f5f\"},\"geo\":{\"bgcolor\":\"white\",\"lakecolor\":\"white\",\"landcolor\":\"#E5ECF6\",\"showlakes\":true,\"showland\":true,\"subunitcolor\":\"white\"},\"hoverlabel\":{\"align\":\"left\"},\"hovermode\":\"closest\",\"mapbox\":{\"style\":\"light\"},\"paper_bgcolor\":\"white\",\"plot_bgcolor\":\"#E5ECF6\",\"polar\":{\"angularaxis\":{\"gridcolor\":\"white\",\"linecolor\":\"white\",\"ticks\":\"\"},\"bgcolor\":\"#E5ECF6\",\"radialaxis\":{\"gridcolor\":\"white\",\"linecolor\":\"white\",\"ticks\":\"\"}},\"scene\":{\"xaxis\":{\"backgroundcolor\":\"#E5ECF6\",\"gridcolor\":\"white\",\"gridwidth\":2,\"linecolor\":\"white\",\"showbackground\":true,\"ticks\":\"\",\"zerolinecolor\":\"white\"},\"yaxis\":{\"backgroundcolor\":\"#E5ECF6\",\"gridcolor\":\"white\",\"gridwidth\":2,\"linecolor\":\"white\",\"showbackground\":true,\"ticks\":\"\",\"zerolinecolor\":\"white\"},\"zaxis\":{\"backgroundcolor\":\"#E5ECF6\",\"gridcolor\":\"white\",\"gridwidth\":2,\"linecolor\":\"white\",\"showbackground\":true,\"ticks\":\"\",\"zerolinecolor\":\"white\"}},\"shapedefaults\":{\"line\":{\"color\":\"#2a3f5f\"}},\"ternary\":{\"aaxis\":{\"gridcolor\":\"white\",\"linecolor\":\"white\",\"ticks\":\"\"},\"baxis\":{\"gridcolor\":\"white\",\"linecolor\":\"white\",\"ticks\":\"\"},\"bgcolor\":\"#E5ECF6\",\"caxis\":{\"gridcolor\":\"white\",\"linecolor\":\"white\",\"ticks\":\"\"}},\"title\":{\"x\":0.05},\"xaxis\":{\"automargin\":true,\"gridcolor\":\"white\",\"linecolor\":\"white\",\"ticks\":\"\",\"title\":{\"standoff\":15},\"zerolinecolor\":\"white\",\"zerolinewidth\":2},\"yaxis\":{\"automargin\":true,\"gridcolor\":\"white\",\"linecolor\":\"white\",\"ticks\":\"\",\"title\":{\"standoff\":15},\"zerolinecolor\":\"white\",\"zerolinewidth\":2}}},\"coloraxis\":{\"colorbar\":{\"title\":{\"text\":\"DET Lead\"}},\"cmin\":-17,\"cmax\":17,\"colorscale\":[[0.0,\"rgb(103,0,31)\"],[0.1,\"rgb(178,24,43)\"],[0.2,\"rgb(214,96,77)\"],[0.3,\"rgb(244,165,130)\"],[0.4,\"rgb(253,219,199)\"],[0.5,\"rgb(247,247,247)\"],[0.6,\"rgb(209,229,240)\"],[0.7,\"rgb(146,197,222)\"],[0.8,\"rgb(67,147,195)\"],[0.9,\"rgb(33,102,172)\"],[1.0,\"rgb(5,48,97)\"]]},\"xaxis\":{\"title\":{\"text\":\"Time\"},\"tickmode\":\"linear\",\"tick0\":0,\"dtick\":12},\"yaxis\":{\"title\":{\"text\":\"DET Win Prob.\"},\"range\":[-0.05,1.05],\"tickmode\":\"linear\",\"tick0\":0,\"dtick\":0.1},\"width\":1000,\"height\":600,\"title\":{\"text\":\"DET In Game Win Probability - IND @ DET (2022-03-04)\"},\"shapes\":[{\"line\":{\"color\":\"gray\",\"dash\":\"dash\",\"width\":0.75},\"type\":\"line\",\"x0\":-3,\"x1\":52,\"y0\":0.5,\"y1\":0.5}]},                        {\"responsive\": true}                    ).then(function(){\n",
       "                            \n",
       "var gd = document.getElementById('d574e6d1-a077-44de-ae9b-2ff2528f517e');\n",
       "var x = new MutationObserver(function (mutations, observer) {{\n",
       "        var display = window.getComputedStyle(gd).display;\n",
       "        if (!display || display === 'none') {{\n",
       "            console.log([gd, 'removed!']);\n",
       "            Plotly.purge(gd);\n",
       "            observer.disconnect();\n",
       "        }}\n",
       "}});\n",
       "\n",
       "// Listen for the removal of the full notebook cells\n",
       "var notebookContainer = gd.closest('#notebook-container');\n",
       "if (notebookContainer) {{\n",
       "    x.observe(notebookContainer, {childList: true});\n",
       "}}\n",
       "\n",
       "// Listen for the clearing of the current output cell\n",
       "var outputEl = gd.closest('.output');\n",
       "if (outputEl) {{\n",
       "    x.observe(outputEl, {childList: true});\n",
       "}}\n",
       "\n",
       "                        })                };                });            </script>        </div>"
      ]
     },
     "metadata": {},
     "output_type": "display_data"
    }
   ],
   "source": [
    "max_lead = max(-winner_lead.min(), winner_lead.max()) + 2\n",
    "line = px.line(x=game_sbs['time'], y=winner_probs, color_discrete_sequence=[\"gray\"])\n",
    "scatter = px.scatter(game_sbs, x='time', y=winner_probs, color=winner_lead, hover_data={'formatted_time': True})\n",
    "fig = go.Figure(data=scatter.data + line.data)\n",
    "fig.update_coloraxes(colorbar_title=f\"{winner} Lead\", cmin=-max_lead, cmax=max_lead, colorscale=\"RdBu\")\n",
    "fig.update_traces(marker={'size': 8, 'line_width': 1, 'opacity': .75})\n",
    "fig.update_traces(hovertemplate='Time: %{customdata.0} <br>' + winner + ' Win Prob: %{y} <br>' + winner + ' Lead: %{marker.color}')\n",
    "fig.update_xaxes(title_text=\"Time\")\n",
    "fig.update_yaxes(title_text=f\"{winner} Win Prob.\", range=(-.05, 1.05))\n",
    "fig.update_layout(width=1000, height=600)\n",
    "fig.update_layout(title=f\"{winner} In Game Win Probability - {vis} @ {home} ({game_date})\",)\n",
    "fig.update_layout(xaxis = {'tickmode': 'linear', 'tick0': 0, 'dtick': 12})\n",
    "fig.update_layout(yaxis = {'tickmode': 'linear', 'tick0': 0, 'dtick': .1})\n",
    "fig.add_shape(type='line', x0=-3, x1=52, y0=0.5, y1=0.5, line_color='gray', line_dash='dash', line_width=0.75)\n",
    "fig.show()\n",
    "pio.write_html(fig, file='_includes/figure.html', auto_open=False)\n"
   ]
  },
  {
   "cell_type": "code",
   "execution_count": null,
   "id": "88035694-6ef8-4b06-bfbf-7fbf8f64d53e",
   "metadata": {},
   "outputs": [],
   "source": []
  }
 ],
 "metadata": {
  "kernelspec": {
   "display_name": "Python 3 (ipykernel)",
   "language": "python",
   "name": "python3"
  },
  "language_info": {
   "codemirror_mode": {
    "name": "ipython",
    "version": 3
   },
   "file_extension": ".py",
   "mimetype": "text/x-python",
   "name": "python",
   "nbconvert_exporter": "python",
   "pygments_lexer": "ipython3",
   "version": "3.9.7"
  }
 },
 "nbformat": 4,
 "nbformat_minor": 5
}
