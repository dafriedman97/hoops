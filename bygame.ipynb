{
 "cells": [
  {
   "cell_type": "code",
   "execution_count": 348,
   "id": "a491a6f8-818e-4206-a360-c0b70594327d",
   "metadata": {},
   "outputs": [],
   "source": [
    "import pandas as pd\n",
    "import os\n",
    "import sys\n",
    "from collections import defaultdict\n",
    "from pathlib import Path\n",
    "import numpy as np\n",
    "import pickle\n",
    "import json\n",
    "import ipdb\n",
    "import importlib\n",
    "import matplotlib.pyplot as plt\n",
    "import seaborn as sns\n",
    "import plotly.express as px\n",
    "import plotly.graph_objects as go\n",
    "import plotly.io as pio\n",
    "from tensorflow import keras\n",
    "\n",
    "hoops_dir = Path(\"/Users/danielfriedman/Desktop/hoops\")\n",
    "data_dir = hoops_dir / \"data\"\n",
    "\n",
    "pd.set_option(\"display.max_columns\", 100)\n",
    "pd.set_option(\"display.max_rows\", 30)\n"
   ]
  },
  {
   "cell_type": "code",
   "execution_count": 84,
   "id": "b329d294-e14c-4efb-bfbf-58fd4a63c0d5",
   "metadata": {},
   "outputs": [],
   "source": [
    "season = \"2021-22\"\n",
    "sbs = pd.read_csv(data_dir / \"score_by_score\" / (eval_season + \".csv\"))\n",
    "playstats = pd.read_csv(data_dir / \"playstats\" / (eval_season + \".csv\"))\n",
    "rankings = pd.read_csv(data_dir / \"rankings\" / (eval_season + \".csv\"))\n"
   ]
  },
  {
   "cell_type": "code",
   "execution_count": 86,
   "id": "8f9555a6-d092-43c1-98db-64098707ec3d",
   "metadata": {},
   "outputs": [],
   "source": [
    "model = keras.models.load_model(hoops_dir / \"model/models/16_32_8|2|3|2.5e-06|home_lead_time_left_home_ranking_vis_ranking_home_lead_pml\")\n",
    "scaler = pickle.load(open(hoops_dir / \"model/scalers/16_32_8|2|3|2.5e-06|home_lead_time_left_home_ranking_vis_ranking_home_lead_pml\", \"rb\"))\n"
   ]
  },
  {
   "cell_type": "code",
   "execution_count": 87,
   "id": "d6521966-05b1-40b5-8ac6-0182759e119f",
   "metadata": {},
   "outputs": [],
   "source": [
    "sbs_reg = sbs.loc[sbs['time'] < 48].copy(deep=True)\n",
    "features = ['home_lead', 'log_time_left', 'home_ranking', 'vis_ranking', 'home_lead_per_root_minute']\n",
    "sbs_reg['home_lead'] = sbs_reg['home_score'] - sbs_reg['vis_score']\n",
    "sbs_reg['log_time_left'] = np.log(48 - sbs_reg['time'])\n",
    "sbs_reg['ppm'] = (sbs_reg['home_score'] + sbs_reg['vis_score']) / sbs_reg['time']\n",
    "sbs_reg['home_lead_per_root_minute'] = sbs_reg['home_lead'] / np.sqrt(48-sbs_reg['time'])\n"
   ]
  },
  {
   "cell_type": "code",
   "execution_count": 117,
   "id": "5c125daf-f015-469c-8252-9710f94ae9e9",
   "metadata": {},
   "outputs": [
    {
     "data": {
      "text/html": [
       "<div>\n",
       "<style scoped>\n",
       "    .dataframe tbody tr th:only-of-type {\n",
       "        vertical-align: middle;\n",
       "    }\n",
       "\n",
       "    .dataframe tbody tr th {\n",
       "        vertical-align: top;\n",
       "    }\n",
       "\n",
       "    .dataframe thead th {\n",
       "        text-align: right;\n",
       "    }\n",
       "</style>\n",
       "<table border=\"1\" class=\"dataframe\">\n",
       "  <thead>\n",
       "    <tr style=\"text-align: right;\">\n",
       "      <th></th>\n",
       "      <th>game_id</th>\n",
       "      <th>date</th>\n",
       "      <th>home</th>\n",
       "      <th>vis</th>\n",
       "      <th>time</th>\n",
       "      <th>home_score</th>\n",
       "      <th>vis_score</th>\n",
       "      <th>home_win</th>\n",
       "      <th>home_lead</th>\n",
       "      <th>log_time_left</th>\n",
       "      <th>ppm</th>\n",
       "      <th>home_lead_per_root_minute</th>\n",
       "    </tr>\n",
       "  </thead>\n",
       "  <tbody>\n",
       "    <tr>\n",
       "      <th>97517</th>\n",
       "      <td>22100015</td>\n",
       "      <td>2021-10-21</td>\n",
       "      <td>MIA</td>\n",
       "      <td>MIL</td>\n",
       "      <td>0.0</td>\n",
       "      <td>0</td>\n",
       "      <td>0</td>\n",
       "      <td>True</td>\n",
       "      <td>0</td>\n",
       "      <td>3.871201</td>\n",
       "      <td>NaN</td>\n",
       "      <td>0.0</td>\n",
       "    </tr>\n",
       "    <tr>\n",
       "      <th>96368</th>\n",
       "      <td>22100028</td>\n",
       "      <td>2021-10-23</td>\n",
       "      <td>IND</td>\n",
       "      <td>MIA</td>\n",
       "      <td>0.0</td>\n",
       "      <td>0</td>\n",
       "      <td>0</td>\n",
       "      <td>True</td>\n",
       "      <td>0</td>\n",
       "      <td>3.871201</td>\n",
       "      <td>NaN</td>\n",
       "      <td>0.0</td>\n",
       "    </tr>\n",
       "    <tr>\n",
       "      <th>57760</th>\n",
       "      <td>22100045</td>\n",
       "      <td>2021-10-25</td>\n",
       "      <td>MIA</td>\n",
       "      <td>ORL</td>\n",
       "      <td>0.0</td>\n",
       "      <td>0</td>\n",
       "      <td>0</td>\n",
       "      <td>True</td>\n",
       "      <td>0</td>\n",
       "      <td>3.871201</td>\n",
       "      <td>NaN</td>\n",
       "      <td>0.0</td>\n",
       "    </tr>\n",
       "    <tr>\n",
       "      <th>42509</th>\n",
       "      <td>22100057</td>\n",
       "      <td>2021-10-27</td>\n",
       "      <td>BKN</td>\n",
       "      <td>MIA</td>\n",
       "      <td>0.0</td>\n",
       "      <td>0</td>\n",
       "      <td>0</td>\n",
       "      <td>False</td>\n",
       "      <td>0</td>\n",
       "      <td>3.871201</td>\n",
       "      <td>NaN</td>\n",
       "      <td>0.0</td>\n",
       "    </tr>\n",
       "    <tr>\n",
       "      <th>78122</th>\n",
       "      <td>22100073</td>\n",
       "      <td>2021-10-29</td>\n",
       "      <td>MIA</td>\n",
       "      <td>CHA</td>\n",
       "      <td>0.0</td>\n",
       "      <td>0</td>\n",
       "      <td>0</td>\n",
       "      <td>True</td>\n",
       "      <td>0</td>\n",
       "      <td>3.871201</td>\n",
       "      <td>NaN</td>\n",
       "      <td>0.0</td>\n",
       "    </tr>\n",
       "    <tr>\n",
       "      <th>...</th>\n",
       "      <td>...</td>\n",
       "      <td>...</td>\n",
       "      <td>...</td>\n",
       "      <td>...</td>\n",
       "      <td>...</td>\n",
       "      <td>...</td>\n",
       "      <td>...</td>\n",
       "      <td>...</td>\n",
       "      <td>...</td>\n",
       "      <td>...</td>\n",
       "      <td>...</td>\n",
       "      <td>...</td>\n",
       "    </tr>\n",
       "    <tr>\n",
       "      <th>70944</th>\n",
       "      <td>22100922</td>\n",
       "      <td>2022-02-28</td>\n",
       "      <td>MIA</td>\n",
       "      <td>CHI</td>\n",
       "      <td>0.0</td>\n",
       "      <td>0</td>\n",
       "      <td>0</td>\n",
       "      <td>True</td>\n",
       "      <td>0</td>\n",
       "      <td>3.871201</td>\n",
       "      <td>NaN</td>\n",
       "      <td>0.0</td>\n",
       "    </tr>\n",
       "    <tr>\n",
       "      <th>71056</th>\n",
       "      <td>22100936</td>\n",
       "      <td>2022-03-02</td>\n",
       "      <td>MIL</td>\n",
       "      <td>MIA</td>\n",
       "      <td>0.0</td>\n",
       "      <td>0</td>\n",
       "      <td>0</td>\n",
       "      <td>True</td>\n",
       "      <td>0</td>\n",
       "      <td>3.871201</td>\n",
       "      <td>NaN</td>\n",
       "      <td>0.0</td>\n",
       "    </tr>\n",
       "    <tr>\n",
       "      <th>96598</th>\n",
       "      <td>22100941</td>\n",
       "      <td>2022-03-03</td>\n",
       "      <td>BKN</td>\n",
       "      <td>MIA</td>\n",
       "      <td>0.0</td>\n",
       "      <td>0</td>\n",
       "      <td>0</td>\n",
       "      <td>False</td>\n",
       "      <td>0</td>\n",
       "      <td>3.871201</td>\n",
       "      <td>NaN</td>\n",
       "      <td>0.0</td>\n",
       "    </tr>\n",
       "    <tr>\n",
       "      <th>90681</th>\n",
       "      <td>22100956</td>\n",
       "      <td>2022-03-05</td>\n",
       "      <td>MIA</td>\n",
       "      <td>PHI</td>\n",
       "      <td>0.0</td>\n",
       "      <td>0</td>\n",
       "      <td>0</td>\n",
       "      <td>True</td>\n",
       "      <td>0</td>\n",
       "      <td>3.871201</td>\n",
       "      <td>NaN</td>\n",
       "      <td>0.0</td>\n",
       "    </tr>\n",
       "    <tr>\n",
       "      <th>19295</th>\n",
       "      <td>22100970</td>\n",
       "      <td>2022-03-07</td>\n",
       "      <td>MIA</td>\n",
       "      <td>HOU</td>\n",
       "      <td>0.0</td>\n",
       "      <td>0</td>\n",
       "      <td>0</td>\n",
       "      <td>True</td>\n",
       "      <td>0</td>\n",
       "      <td>3.871201</td>\n",
       "      <td>NaN</td>\n",
       "      <td>0.0</td>\n",
       "    </tr>\n",
       "  </tbody>\n",
       "</table>\n",
       "<p>66 rows × 12 columns</p>\n",
       "</div>"
      ],
      "text/plain": [
       "        game_id        date home  vis  time  home_score  vis_score  home_win  \\\n",
       "97517  22100015  2021-10-21  MIA  MIL   0.0           0          0      True   \n",
       "96368  22100028  2021-10-23  IND  MIA   0.0           0          0      True   \n",
       "57760  22100045  2021-10-25  MIA  ORL   0.0           0          0      True   \n",
       "42509  22100057  2021-10-27  BKN  MIA   0.0           0          0     False   \n",
       "78122  22100073  2021-10-29  MIA  CHA   0.0           0          0      True   \n",
       "...         ...         ...  ...  ...   ...         ...        ...       ...   \n",
       "70944  22100922  2022-02-28  MIA  CHI   0.0           0          0      True   \n",
       "71056  22100936  2022-03-02  MIL  MIA   0.0           0          0      True   \n",
       "96598  22100941  2022-03-03  BKN  MIA   0.0           0          0     False   \n",
       "90681  22100956  2022-03-05  MIA  PHI   0.0           0          0      True   \n",
       "19295  22100970  2022-03-07  MIA  HOU   0.0           0          0      True   \n",
       "\n",
       "       home_lead  log_time_left  ppm  home_lead_per_root_minute  \n",
       "97517          0       3.871201  NaN                        0.0  \n",
       "96368          0       3.871201  NaN                        0.0  \n",
       "57760          0       3.871201  NaN                        0.0  \n",
       "42509          0       3.871201  NaN                        0.0  \n",
       "78122          0       3.871201  NaN                        0.0  \n",
       "...          ...            ...  ...                        ...  \n",
       "70944          0       3.871201  NaN                        0.0  \n",
       "71056          0       3.871201  NaN                        0.0  \n",
       "96598          0       3.871201  NaN                        0.0  \n",
       "90681          0       3.871201  NaN                        0.0  \n",
       "19295          0       3.871201  NaN                        0.0  \n",
       "\n",
       "[66 rows x 12 columns]"
      ]
     },
     "execution_count": 117,
     "metadata": {},
     "output_type": "execute_result"
    }
   ],
   "source": [
    "sbs_reg.loc[(sbs_reg['home'] == \"MIA\") | (sbs_reg['vis'] == \"MIA\")].drop_duplicates('game_id').sort_values(\"date\")"
   ]
  },
  {
   "cell_type": "code",
   "execution_count": 345,
   "id": "7500c33e-a39c-4d61-9310-09e79e435d33",
   "metadata": {},
   "outputs": [],
   "source": [
    "gameid = 22100941\n",
    "game_sbs = sbs_reg.loc[sbs_reg['game_id'] == gameid].reset_index(drop=True).copy(deep=True)\n",
    "home, vis, game_date = game_sbs.iloc[0][['home', 'vis', 'date']]\n",
    "home_ranking = rankings.loc[(rankings['date'] == game_date) & (rankings['team'] == home), 'ranking']\n",
    "vis_ranking = rankings.loc[(rankings['date'] == game_date) & (rankings['team'] == vis), 'ranking']\n",
    "game_sbs['home_ranking'] = home_ranking.iloc[0]\n",
    "game_sbs['vis_ranking'] = vis_ranking.iloc[0]\n",
    "game_features = scaler.transform(game_sbs[features].to_numpy())\n",
    "home_probs = model.predict(game_features)[:,0].round(3)\n"
   ]
  },
  {
   "cell_type": "code",
   "execution_count": 346,
   "id": "d2b7a4c2-02d6-47a9-81b9-a8c3578def66",
   "metadata": {},
   "outputs": [
    {
     "data": {
      "application/vnd.plotly.v1+json": {
       "config": {
        "plotlyServerURL": "https://plot.ly"
       },
       "data": [
        {
         "line": {
          "color": "gray"
         },
         "mode": "lines",
         "name": "",
         "showlegend": false,
         "type": "scatter",
         "x": [
          0,
          1.08,
          1.65,
          2.07,
          2.42,
          2.65,
          3.48,
          3.75,
          4.08,
          4.23,
          4.62,
          5.1,
          5.28,
          5.53,
          6.43,
          6.43,
          6.85,
          7.07,
          7.32,
          7.82,
          7.97,
          7.97,
          8.37,
          8.37,
          8.65,
          9.5,
          10.38,
          10.83,
          11.38,
          11.58,
          11.97,
          11.97,
          12.2,
          12.72,
          14.25,
          14.53,
          15.45,
          15.7,
          15.82,
          16.3,
          16.3,
          16.55,
          16.68,
          16.68,
          16.92,
          17.2,
          17.43,
          17.6,
          18.1,
          18.38,
          18.75,
          18.97,
          18.97,
          19.37,
          19.62,
          20.15,
          20.6,
          21.27,
          21.55,
          21.55,
          21.88,
          22.13,
          22.53,
          22.77,
          23.27,
          23.27,
          23.58,
          23.97,
          24.85,
          25.17,
          25.4,
          26.47,
          26.47,
          26.65,
          26.77,
          26.88,
          27.12,
          27.92,
          28.57,
          29.13,
          30.12,
          31.43,
          32,
          32.5,
          32.68,
          33.35,
          34.45,
          34.45,
          34.97,
          35.15,
          35.55,
          36.32,
          36.32,
          36.67,
          36.87,
          37.53,
          37.83,
          38.53,
          38.7,
          39.55,
          39.77,
          39.77,
          40.08,
          40.08,
          41.03,
          41.75,
          41.75,
          42.45,
          43.13,
          43.13,
          43.27,
          43.65,
          43.97,
          44.62,
          45.2,
          45.62,
          45.62,
          47.42,
          47.62,
          47.62
         ],
         "y": [
          0.492000013589859,
          0.5289999842643738,
          0.5600000023841858,
          0.5149999856948853,
          0.5410000085830688,
          0.5149999856948853,
          0.4880000054836273,
          0.5139999985694885,
          0.527999997138977,
          0.5630000233650208,
          0.6370000243186951,
          0.6970000267028809,
          0.6690000295639038,
          0.7260000109672546,
          0.6729999780654907,
          0.6430000066757202,
          0.703000009059906,
          0.6449999809265137,
          0.7049999833106995,
          0.7799999713897705,
          0.7599999904632568,
          0.7350000143051147,
          0.7089999914169312,
          0.6800000071525574,
          0.7620000243186951,
          0.8040000200271606,
          0.7680000066757202,
          0.7179999947547913,
          0.6620000004768372,
          0.7210000157356262,
          0.75,
          0.7730000019073486,
          0.7239999771118164,
          0.6669999957084656,
          0.7329999804496765,
          0.8019999861717224,
          0.8410000205039978,
          0.8240000009536743,
          0.8059999942779541,
          0.7670000195503235,
          0.7419999837875366,
          0.7889999747276306,
          0.7680000066757202,
          0.7440000176429749,
          0.7900000214576721,
          0.7459999918937683,
          0.8119999766349792,
          0.7720000147819519,
          0.8149999976158142,
          0.7960000038146973,
          0.8519999980926514,
          0.8360000252723694,
          0.8180000185966492,
          0.8700000047683716,
          0.8389999866485596,
          0.7820000052452087,
          0.7350000143051147,
          0.6759999990463257,
          0.7400000095367432,
          0.765999972820282,
          0.7419999837875366,
          0.7910000085830688,
          0.8500000238418579,
          0.8149999976158142,
          0.7490000128746033,
          0.718999981880188,
          0.7749999761581421,
          0.6909999847412109,
          0.593999981880188,
          0.6639999747276306,
          0.597000002861023,
          0.671999990940094,
          0.6340000033378601,
          0.6029999852180481,
          0.6349999904632568,
          0.7099999785423279,
          0.6370000243186951,
          0.5490000247955322,
          0.4869999885559082,
          0.4009999930858612,
          0.3160000145435333,
          0.20999999344348907,
          0.2709999978542328,
          0.3070000112056732,
          0.20000000298023224,
          0.30300000309944153,
          0.22200000286102295,
          0.257999986410141,
          0.1589999943971634,
          0.21799999475479126,
          0.2919999957084656,
          0.3319999873638153,
          0.3790000081062317,
          0.2849999964237213,
          0.37700000405311584,
          0.2800000011920929,
          0.3720000088214874,
          0.2720000147819519,
          0.36800000071525574,
          0.22100000083446503,
          0.26100000739097595,
          0.3089999854564667,
          0.17800000309944153,
          0.2160000056028366,
          0.10899999737739563,
          0.12700000405311584,
          0.15800000727176666,
          0.09300000220537186,
          0.050999999046325684,
          0.06599999964237213,
          0.06400000303983688,
          0.027000000700354576,
          0.054999999701976776,
          0.11299999803304672,
          0.1809999942779541,
          0.22599999606609344,
          0.29600000381469727,
          0.06199999898672104,
          0.00800000037997961,
          0.017999999225139618
         ]
        },
        {
         "marker": {
          "color": [
           0,
           3,
           5,
           2,
           4,
           2,
           0,
           2,
           3,
           5,
           8,
           10,
           9,
           11,
           9,
           8,
           10,
           8,
           10,
           13,
           12,
           11,
           10,
           9,
           12,
           14,
           12,
           10,
           8,
           10,
           11,
           12,
           10,
           8,
           10,
           13,
           15,
           14,
           13,
           11,
           10,
           12,
           11,
           10,
           12,
           10,
           13,
           11,
           13,
           12,
           15,
           14,
           13,
           16,
           14,
           11,
           9,
           7,
           9,
           10,
           9,
           11,
           14,
           12,
           9,
           8,
           10,
           7,
           4,
           6,
           4,
           6,
           5,
           4,
           5,
           7,
           5,
           2,
           0,
           -2,
           -4,
           -7,
           -5,
           -4,
           -7,
           -4,
           -6,
           -5,
           -8,
           -6,
           -4,
           -3,
           -2,
           -4,
           -2,
           -4,
           -2,
           -4,
           -2,
           -5,
           -4,
           -3,
           -6,
           -5,
           -8,
           -7,
           -6,
           -8,
           -10,
           -9,
           -9,
           -12,
           -9,
           -6,
           -4,
           -3,
           -2,
           -4,
           -6,
           -5
          ],
          "colorscale": [
           [
            0,
            "rgb(103,0,31)"
           ],
           [
            0.1,
            "rgb(178,24,43)"
           ],
           [
            0.2,
            "rgb(214,96,77)"
           ],
           [
            0.3,
            "rgb(244,165,130)"
           ],
           [
            0.4,
            "rgb(253,219,199)"
           ],
           [
            0.5,
            "rgb(247,247,247)"
           ],
           [
            0.6,
            "rgb(209,229,240)"
           ],
           [
            0.7,
            "rgb(146,197,222)"
           ],
           [
            0.8,
            "rgb(67,147,195)"
           ],
           [
            0.9,
            "rgb(33,102,172)"
           ],
           [
            1,
            "rgb(5,48,97)"
           ]
          ],
          "line": {
           "color": "gray",
           "width": 1
          },
          "opacity": 0.75,
          "showscale": true,
          "size": 6
         },
         "mode": "markers",
         "name": "",
         "showlegend": false,
         "type": "scatter",
         "x": [
          0,
          1.08,
          1.65,
          2.07,
          2.42,
          2.65,
          3.48,
          3.75,
          4.08,
          4.23,
          4.62,
          5.1,
          5.28,
          5.53,
          6.43,
          6.43,
          6.85,
          7.07,
          7.32,
          7.82,
          7.97,
          7.97,
          8.37,
          8.37,
          8.65,
          9.5,
          10.38,
          10.83,
          11.38,
          11.58,
          11.97,
          11.97,
          12.2,
          12.72,
          14.25,
          14.53,
          15.45,
          15.7,
          15.82,
          16.3,
          16.3,
          16.55,
          16.68,
          16.68,
          16.92,
          17.2,
          17.43,
          17.6,
          18.1,
          18.38,
          18.75,
          18.97,
          18.97,
          19.37,
          19.62,
          20.15,
          20.6,
          21.27,
          21.55,
          21.55,
          21.88,
          22.13,
          22.53,
          22.77,
          23.27,
          23.27,
          23.58,
          23.97,
          24.85,
          25.17,
          25.4,
          26.47,
          26.47,
          26.65,
          26.77,
          26.88,
          27.12,
          27.92,
          28.57,
          29.13,
          30.12,
          31.43,
          32,
          32.5,
          32.68,
          33.35,
          34.45,
          34.45,
          34.97,
          35.15,
          35.55,
          36.32,
          36.32,
          36.67,
          36.87,
          37.53,
          37.83,
          38.53,
          38.7,
          39.55,
          39.77,
          39.77,
          40.08,
          40.08,
          41.03,
          41.75,
          41.75,
          42.45,
          43.13,
          43.13,
          43.27,
          43.65,
          43.97,
          44.62,
          45.2,
          45.62,
          45.62,
          47.42,
          47.62,
          47.62
         ],
         "y": [
          0.492000013589859,
          0.5289999842643738,
          0.5600000023841858,
          0.5149999856948853,
          0.5410000085830688,
          0.5149999856948853,
          0.4880000054836273,
          0.5139999985694885,
          0.527999997138977,
          0.5630000233650208,
          0.6370000243186951,
          0.6970000267028809,
          0.6690000295639038,
          0.7260000109672546,
          0.6729999780654907,
          0.6430000066757202,
          0.703000009059906,
          0.6449999809265137,
          0.7049999833106995,
          0.7799999713897705,
          0.7599999904632568,
          0.7350000143051147,
          0.7089999914169312,
          0.6800000071525574,
          0.7620000243186951,
          0.8040000200271606,
          0.7680000066757202,
          0.7179999947547913,
          0.6620000004768372,
          0.7210000157356262,
          0.75,
          0.7730000019073486,
          0.7239999771118164,
          0.6669999957084656,
          0.7329999804496765,
          0.8019999861717224,
          0.8410000205039978,
          0.8240000009536743,
          0.8059999942779541,
          0.7670000195503235,
          0.7419999837875366,
          0.7889999747276306,
          0.7680000066757202,
          0.7440000176429749,
          0.7900000214576721,
          0.7459999918937683,
          0.8119999766349792,
          0.7720000147819519,
          0.8149999976158142,
          0.7960000038146973,
          0.8519999980926514,
          0.8360000252723694,
          0.8180000185966492,
          0.8700000047683716,
          0.8389999866485596,
          0.7820000052452087,
          0.7350000143051147,
          0.6759999990463257,
          0.7400000095367432,
          0.765999972820282,
          0.7419999837875366,
          0.7910000085830688,
          0.8500000238418579,
          0.8149999976158142,
          0.7490000128746033,
          0.718999981880188,
          0.7749999761581421,
          0.6909999847412109,
          0.593999981880188,
          0.6639999747276306,
          0.597000002861023,
          0.671999990940094,
          0.6340000033378601,
          0.6029999852180481,
          0.6349999904632568,
          0.7099999785423279,
          0.6370000243186951,
          0.5490000247955322,
          0.4869999885559082,
          0.4009999930858612,
          0.3160000145435333,
          0.20999999344348907,
          0.2709999978542328,
          0.3070000112056732,
          0.20000000298023224,
          0.30300000309944153,
          0.22200000286102295,
          0.257999986410141,
          0.1589999943971634,
          0.21799999475479126,
          0.2919999957084656,
          0.3319999873638153,
          0.3790000081062317,
          0.2849999964237213,
          0.37700000405311584,
          0.2800000011920929,
          0.3720000088214874,
          0.2720000147819519,
          0.36800000071525574,
          0.22100000083446503,
          0.26100000739097595,
          0.3089999854564667,
          0.17800000309944153,
          0.2160000056028366,
          0.10899999737739563,
          0.12700000405311584,
          0.15800000727176666,
          0.09300000220537186,
          0.050999999046325684,
          0.06599999964237213,
          0.06400000303983688,
          0.027000000700354576,
          0.054999999701976776,
          0.11299999803304672,
          0.1809999942779541,
          0.22599999606609344,
          0.29600000381469727,
          0.06199999898672104,
          0.00800000037997961,
          0.017999999225139618
         ]
        }
       ],
       "layout": {
        "coloraxis": {
         "colorbar": {
          "title": {
           "text": "BKN Lead"
          }
         }
        },
        "height": 600,
        "legend": {
         "title": {
          "text": "Legend Label"
         }
        },
        "template": {
         "data": {
          "bar": [
           {
            "error_x": {
             "color": "#2a3f5f"
            },
            "error_y": {
             "color": "#2a3f5f"
            },
            "marker": {
             "line": {
              "color": "#E5ECF6",
              "width": 0.5
             },
             "pattern": {
              "fillmode": "overlay",
              "size": 10,
              "solidity": 0.2
             }
            },
            "type": "bar"
           }
          ],
          "barpolar": [
           {
            "marker": {
             "line": {
              "color": "#E5ECF6",
              "width": 0.5
             },
             "pattern": {
              "fillmode": "overlay",
              "size": 10,
              "solidity": 0.2
             }
            },
            "type": "barpolar"
           }
          ],
          "carpet": [
           {
            "aaxis": {
             "endlinecolor": "#2a3f5f",
             "gridcolor": "white",
             "linecolor": "white",
             "minorgridcolor": "white",
             "startlinecolor": "#2a3f5f"
            },
            "baxis": {
             "endlinecolor": "#2a3f5f",
             "gridcolor": "white",
             "linecolor": "white",
             "minorgridcolor": "white",
             "startlinecolor": "#2a3f5f"
            },
            "type": "carpet"
           }
          ],
          "choropleth": [
           {
            "colorbar": {
             "outlinewidth": 0,
             "ticks": ""
            },
            "type": "choropleth"
           }
          ],
          "contour": [
           {
            "colorbar": {
             "outlinewidth": 0,
             "ticks": ""
            },
            "colorscale": [
             [
              0,
              "#0d0887"
             ],
             [
              0.1111111111111111,
              "#46039f"
             ],
             [
              0.2222222222222222,
              "#7201a8"
             ],
             [
              0.3333333333333333,
              "#9c179e"
             ],
             [
              0.4444444444444444,
              "#bd3786"
             ],
             [
              0.5555555555555556,
              "#d8576b"
             ],
             [
              0.6666666666666666,
              "#ed7953"
             ],
             [
              0.7777777777777778,
              "#fb9f3a"
             ],
             [
              0.8888888888888888,
              "#fdca26"
             ],
             [
              1,
              "#f0f921"
             ]
            ],
            "type": "contour"
           }
          ],
          "contourcarpet": [
           {
            "colorbar": {
             "outlinewidth": 0,
             "ticks": ""
            },
            "type": "contourcarpet"
           }
          ],
          "heatmap": [
           {
            "colorbar": {
             "outlinewidth": 0,
             "ticks": ""
            },
            "colorscale": [
             [
              0,
              "#0d0887"
             ],
             [
              0.1111111111111111,
              "#46039f"
             ],
             [
              0.2222222222222222,
              "#7201a8"
             ],
             [
              0.3333333333333333,
              "#9c179e"
             ],
             [
              0.4444444444444444,
              "#bd3786"
             ],
             [
              0.5555555555555556,
              "#d8576b"
             ],
             [
              0.6666666666666666,
              "#ed7953"
             ],
             [
              0.7777777777777778,
              "#fb9f3a"
             ],
             [
              0.8888888888888888,
              "#fdca26"
             ],
             [
              1,
              "#f0f921"
             ]
            ],
            "type": "heatmap"
           }
          ],
          "heatmapgl": [
           {
            "colorbar": {
             "outlinewidth": 0,
             "ticks": ""
            },
            "colorscale": [
             [
              0,
              "#0d0887"
             ],
             [
              0.1111111111111111,
              "#46039f"
             ],
             [
              0.2222222222222222,
              "#7201a8"
             ],
             [
              0.3333333333333333,
              "#9c179e"
             ],
             [
              0.4444444444444444,
              "#bd3786"
             ],
             [
              0.5555555555555556,
              "#d8576b"
             ],
             [
              0.6666666666666666,
              "#ed7953"
             ],
             [
              0.7777777777777778,
              "#fb9f3a"
             ],
             [
              0.8888888888888888,
              "#fdca26"
             ],
             [
              1,
              "#f0f921"
             ]
            ],
            "type": "heatmapgl"
           }
          ],
          "histogram": [
           {
            "marker": {
             "pattern": {
              "fillmode": "overlay",
              "size": 10,
              "solidity": 0.2
             }
            },
            "type": "histogram"
           }
          ],
          "histogram2d": [
           {
            "colorbar": {
             "outlinewidth": 0,
             "ticks": ""
            },
            "colorscale": [
             [
              0,
              "#0d0887"
             ],
             [
              0.1111111111111111,
              "#46039f"
             ],
             [
              0.2222222222222222,
              "#7201a8"
             ],
             [
              0.3333333333333333,
              "#9c179e"
             ],
             [
              0.4444444444444444,
              "#bd3786"
             ],
             [
              0.5555555555555556,
              "#d8576b"
             ],
             [
              0.6666666666666666,
              "#ed7953"
             ],
             [
              0.7777777777777778,
              "#fb9f3a"
             ],
             [
              0.8888888888888888,
              "#fdca26"
             ],
             [
              1,
              "#f0f921"
             ]
            ],
            "type": "histogram2d"
           }
          ],
          "histogram2dcontour": [
           {
            "colorbar": {
             "outlinewidth": 0,
             "ticks": ""
            },
            "colorscale": [
             [
              0,
              "#0d0887"
             ],
             [
              0.1111111111111111,
              "#46039f"
             ],
             [
              0.2222222222222222,
              "#7201a8"
             ],
             [
              0.3333333333333333,
              "#9c179e"
             ],
             [
              0.4444444444444444,
              "#bd3786"
             ],
             [
              0.5555555555555556,
              "#d8576b"
             ],
             [
              0.6666666666666666,
              "#ed7953"
             ],
             [
              0.7777777777777778,
              "#fb9f3a"
             ],
             [
              0.8888888888888888,
              "#fdca26"
             ],
             [
              1,
              "#f0f921"
             ]
            ],
            "type": "histogram2dcontour"
           }
          ],
          "mesh3d": [
           {
            "colorbar": {
             "outlinewidth": 0,
             "ticks": ""
            },
            "type": "mesh3d"
           }
          ],
          "parcoords": [
           {
            "line": {
             "colorbar": {
              "outlinewidth": 0,
              "ticks": ""
             }
            },
            "type": "parcoords"
           }
          ],
          "pie": [
           {
            "automargin": true,
            "type": "pie"
           }
          ],
          "scatter": [
           {
            "marker": {
             "colorbar": {
              "outlinewidth": 0,
              "ticks": ""
             }
            },
            "type": "scatter"
           }
          ],
          "scatter3d": [
           {
            "line": {
             "colorbar": {
              "outlinewidth": 0,
              "ticks": ""
             }
            },
            "marker": {
             "colorbar": {
              "outlinewidth": 0,
              "ticks": ""
             }
            },
            "type": "scatter3d"
           }
          ],
          "scattercarpet": [
           {
            "marker": {
             "colorbar": {
              "outlinewidth": 0,
              "ticks": ""
             }
            },
            "type": "scattercarpet"
           }
          ],
          "scattergeo": [
           {
            "marker": {
             "colorbar": {
              "outlinewidth": 0,
              "ticks": ""
             }
            },
            "type": "scattergeo"
           }
          ],
          "scattergl": [
           {
            "marker": {
             "colorbar": {
              "outlinewidth": 0,
              "ticks": ""
             }
            },
            "type": "scattergl"
           }
          ],
          "scattermapbox": [
           {
            "marker": {
             "colorbar": {
              "outlinewidth": 0,
              "ticks": ""
             }
            },
            "type": "scattermapbox"
           }
          ],
          "scatterpolar": [
           {
            "marker": {
             "colorbar": {
              "outlinewidth": 0,
              "ticks": ""
             }
            },
            "type": "scatterpolar"
           }
          ],
          "scatterpolargl": [
           {
            "marker": {
             "colorbar": {
              "outlinewidth": 0,
              "ticks": ""
             }
            },
            "type": "scatterpolargl"
           }
          ],
          "scatterternary": [
           {
            "marker": {
             "colorbar": {
              "outlinewidth": 0,
              "ticks": ""
             }
            },
            "type": "scatterternary"
           }
          ],
          "surface": [
           {
            "colorbar": {
             "outlinewidth": 0,
             "ticks": ""
            },
            "colorscale": [
             [
              0,
              "#0d0887"
             ],
             [
              0.1111111111111111,
              "#46039f"
             ],
             [
              0.2222222222222222,
              "#7201a8"
             ],
             [
              0.3333333333333333,
              "#9c179e"
             ],
             [
              0.4444444444444444,
              "#bd3786"
             ],
             [
              0.5555555555555556,
              "#d8576b"
             ],
             [
              0.6666666666666666,
              "#ed7953"
             ],
             [
              0.7777777777777778,
              "#fb9f3a"
             ],
             [
              0.8888888888888888,
              "#fdca26"
             ],
             [
              1,
              "#f0f921"
             ]
            ],
            "type": "surface"
           }
          ],
          "table": [
           {
            "cells": {
             "fill": {
              "color": "#EBF0F8"
             },
             "line": {
              "color": "white"
             }
            },
            "header": {
             "fill": {
              "color": "#C8D4E3"
             },
             "line": {
              "color": "white"
             }
            },
            "type": "table"
           }
          ]
         },
         "layout": {
          "annotationdefaults": {
           "arrowcolor": "#2a3f5f",
           "arrowhead": 0,
           "arrowwidth": 1
          },
          "autotypenumbers": "strict",
          "coloraxis": {
           "colorbar": {
            "outlinewidth": 0,
            "ticks": ""
           }
          },
          "colorscale": {
           "diverging": [
            [
             0,
             "#8e0152"
            ],
            [
             0.1,
             "#c51b7d"
            ],
            [
             0.2,
             "#de77ae"
            ],
            [
             0.3,
             "#f1b6da"
            ],
            [
             0.4,
             "#fde0ef"
            ],
            [
             0.5,
             "#f7f7f7"
            ],
            [
             0.6,
             "#e6f5d0"
            ],
            [
             0.7,
             "#b8e186"
            ],
            [
             0.8,
             "#7fbc41"
            ],
            [
             0.9,
             "#4d9221"
            ],
            [
             1,
             "#276419"
            ]
           ],
           "sequential": [
            [
             0,
             "#0d0887"
            ],
            [
             0.1111111111111111,
             "#46039f"
            ],
            [
             0.2222222222222222,
             "#7201a8"
            ],
            [
             0.3333333333333333,
             "#9c179e"
            ],
            [
             0.4444444444444444,
             "#bd3786"
            ],
            [
             0.5555555555555556,
             "#d8576b"
            ],
            [
             0.6666666666666666,
             "#ed7953"
            ],
            [
             0.7777777777777778,
             "#fb9f3a"
            ],
            [
             0.8888888888888888,
             "#fdca26"
            ],
            [
             1,
             "#f0f921"
            ]
           ],
           "sequentialminus": [
            [
             0,
             "#0d0887"
            ],
            [
             0.1111111111111111,
             "#46039f"
            ],
            [
             0.2222222222222222,
             "#7201a8"
            ],
            [
             0.3333333333333333,
             "#9c179e"
            ],
            [
             0.4444444444444444,
             "#bd3786"
            ],
            [
             0.5555555555555556,
             "#d8576b"
            ],
            [
             0.6666666666666666,
             "#ed7953"
            ],
            [
             0.7777777777777778,
             "#fb9f3a"
            ],
            [
             0.8888888888888888,
             "#fdca26"
            ],
            [
             1,
             "#f0f921"
            ]
           ]
          },
          "colorway": [
           "#636efa",
           "#EF553B",
           "#00cc96",
           "#ab63fa",
           "#FFA15A",
           "#19d3f3",
           "#FF6692",
           "#B6E880",
           "#FF97FF",
           "#FECB52"
          ],
          "font": {
           "color": "#2a3f5f"
          },
          "geo": {
           "bgcolor": "white",
           "lakecolor": "white",
           "landcolor": "#E5ECF6",
           "showlakes": true,
           "showland": true,
           "subunitcolor": "white"
          },
          "hoverlabel": {
           "align": "left"
          },
          "hovermode": "closest",
          "mapbox": {
           "style": "light"
          },
          "paper_bgcolor": "white",
          "plot_bgcolor": "#E5ECF6",
          "polar": {
           "angularaxis": {
            "gridcolor": "white",
            "linecolor": "white",
            "ticks": ""
           },
           "bgcolor": "#E5ECF6",
           "radialaxis": {
            "gridcolor": "white",
            "linecolor": "white",
            "ticks": ""
           }
          },
          "scene": {
           "xaxis": {
            "backgroundcolor": "#E5ECF6",
            "gridcolor": "white",
            "gridwidth": 2,
            "linecolor": "white",
            "showbackground": true,
            "ticks": "",
            "zerolinecolor": "white"
           },
           "yaxis": {
            "backgroundcolor": "#E5ECF6",
            "gridcolor": "white",
            "gridwidth": 2,
            "linecolor": "white",
            "showbackground": true,
            "ticks": "",
            "zerolinecolor": "white"
           },
           "zaxis": {
            "backgroundcolor": "#E5ECF6",
            "gridcolor": "white",
            "gridwidth": 2,
            "linecolor": "white",
            "showbackground": true,
            "ticks": "",
            "zerolinecolor": "white"
           }
          },
          "shapedefaults": {
           "line": {
            "color": "#2a3f5f"
           }
          },
          "ternary": {
           "aaxis": {
            "gridcolor": "white",
            "linecolor": "white",
            "ticks": ""
           },
           "baxis": {
            "gridcolor": "white",
            "linecolor": "white",
            "ticks": ""
           },
           "bgcolor": "#E5ECF6",
           "caxis": {
            "gridcolor": "white",
            "linecolor": "white",
            "ticks": ""
           }
          },
          "title": {
           "x": 0.05
          },
          "xaxis": {
           "automargin": true,
           "gridcolor": "white",
           "linecolor": "white",
           "ticks": "",
           "title": {
            "standoff": 15
           },
           "zerolinecolor": "white",
           "zerolinewidth": 2
          },
          "yaxis": {
           "automargin": true,
           "gridcolor": "white",
           "linecolor": "white",
           "ticks": "",
           "title": {
            "standoff": 15
           },
           "zerolinecolor": "white",
           "zerolinewidth": 2
          }
         }
        },
        "title": {
         "text": "BKN In Game Win Probability - MIA @ BKN (2022-03-03)"
        },
        "width": 1000,
        "xaxis": {
         "autorange": true,
         "dtick": 12,
         "range": [
          -2.9181808189062934,
          50.53818081890629
         ],
         "tick0": 0,
         "tickmode": "linear",
         "title": {
          "text": "Time"
         },
         "type": "linear"
        },
        "yaxis": {
         "range": [
          -0.05,
          1.05
         ],
         "title": {
          "text": "BKN Win Prob."
         },
         "type": "linear"
        }
       }
      },
      "image/png": "[encoded data removed]",
      "text/html": [
       "<div>                            <div id=\"a38b763a-4961-4008-a3f6-afd410ffe3c5\" class=\"plotly-graph-div\" style=\"height:600px; width:1000px;\"></div>            <script type=\"text/javascript\">                require([\"plotly\"], function(Plotly) {                    window.PLOTLYENV=window.PLOTLYENV || {};                                    if (document.getElementById(\"a38b763a-4961-4008-a3f6-afd410ffe3c5\")) {                    Plotly.newPlot(                        \"a38b763a-4961-4008-a3f6-afd410ffe3c5\",                        [{\"line\":{\"color\":\"gray\"},\"mode\":\"lines\",\"name\":\"\",\"showlegend\":false,\"x\":[0.0,1.08,1.65,2.07,2.42,2.65,3.48,3.75,4.08,4.23,4.62,5.1,5.28,5.53,6.43,6.43,6.85,7.07,7.32,7.82,7.97,7.97,8.37,8.37,8.65,9.5,10.38,10.83,11.38,11.58,11.97,11.97,12.2,12.72,14.25,14.53,15.45,15.7,15.82,16.3,16.3,16.55,16.68,16.68,16.92,17.2,17.43,17.6,18.1,18.38,18.75,18.97,18.97,19.37,19.62,20.15,20.6,21.27,21.55,21.55,21.88,22.13,22.53,22.77,23.27,23.27,23.58,23.97,24.85,25.17,25.4,26.47,26.47,26.65,26.77,26.88,27.12,27.92,28.57,29.13,30.12,31.43,32.0,32.5,32.68,33.35,34.45,34.45,34.97,35.15,35.55,36.32,36.32,36.67,36.87,37.53,37.83,38.53,38.7,39.55,39.77,39.77,40.08,40.08,41.03,41.75,41.75,42.45,43.13,43.13,43.27,43.65,43.97,44.62,45.2,45.62,45.62,47.42,47.62,47.62],\"y\":[0.492000013589859,0.5289999842643738,0.5600000023841858,0.5149999856948853,0.5410000085830688,0.5149999856948853,0.4880000054836273,0.5139999985694885,0.527999997138977,0.5630000233650208,0.6370000243186951,0.6970000267028809,0.6690000295639038,0.7260000109672546,0.6729999780654907,0.6430000066757202,0.703000009059906,0.6449999809265137,0.7049999833106995,0.7799999713897705,0.7599999904632568,0.7350000143051147,0.7089999914169312,0.6800000071525574,0.7620000243186951,0.8040000200271606,0.7680000066757202,0.7179999947547913,0.6620000004768372,0.7210000157356262,0.75,0.7730000019073486,0.7239999771118164,0.6669999957084656,0.7329999804496765,0.8019999861717224,0.8410000205039978,0.8240000009536743,0.8059999942779541,0.7670000195503235,0.7419999837875366,0.7889999747276306,0.7680000066757202,0.7440000176429749,0.7900000214576721,0.7459999918937683,0.8119999766349792,0.7720000147819519,0.8149999976158142,0.7960000038146973,0.8519999980926514,0.8360000252723694,0.8180000185966492,0.8700000047683716,0.8389999866485596,0.7820000052452087,0.7350000143051147,0.6759999990463257,0.7400000095367432,0.765999972820282,0.7419999837875366,0.7910000085830688,0.8500000238418579,0.8149999976158142,0.7490000128746033,0.718999981880188,0.7749999761581421,0.6909999847412109,0.593999981880188,0.6639999747276306,0.597000002861023,0.671999990940094,0.6340000033378601,0.6029999852180481,0.6349999904632568,0.7099999785423279,0.6370000243186951,0.5490000247955322,0.4869999885559082,0.4009999930858612,0.3160000145435333,0.20999999344348907,0.2709999978542328,0.3070000112056732,0.20000000298023224,0.30300000309944153,0.22200000286102295,0.257999986410141,0.1589999943971634,0.21799999475479126,0.2919999957084656,0.3319999873638153,0.3790000081062317,0.2849999964237213,0.37700000405311584,0.2800000011920929,0.3720000088214874,0.2720000147819519,0.36800000071525574,0.22100000083446503,0.26100000739097595,0.3089999854564667,0.17800000309944153,0.2160000056028366,0.10899999737739563,0.12700000405311584,0.15800000727176666,0.09300000220537186,0.050999999046325684,0.06599999964237213,0.06400000303983688,0.027000000700354576,0.054999999701976776,0.11299999803304672,0.1809999942779541,0.22599999606609344,0.29600000381469727,0.06199999898672104,0.00800000037997961,0.017999999225139618],\"type\":\"scatter\"},{\"marker\":{\"color\":[0,3,5,2,4,2,0,2,3,5,8,10,9,11,9,8,10,8,10,13,12,11,10,9,12,14,12,10,8,10,11,12,10,8,10,13,15,14,13,11,10,12,11,10,12,10,13,11,13,12,15,14,13,16,14,11,9,7,9,10,9,11,14,12,9,8,10,7,4,6,4,6,5,4,5,7,5,2,0,-2,-4,-7,-5,-4,-7,-4,-6,-5,-8,-6,-4,-3,-2,-4,-2,-4,-2,-4,-2,-5,-4,-3,-6,-5,-8,-7,-6,-8,-10,-9,-9,-12,-9,-6,-4,-3,-2,-4,-6,-5],\"colorscale\":[[0.0,\"rgb(103,0,31)\"],[0.1,\"rgb(178,24,43)\"],[0.2,\"rgb(214,96,77)\"],[0.3,\"rgb(244,165,130)\"],[0.4,\"rgb(253,219,199)\"],[0.5,\"rgb(247,247,247)\"],[0.6,\"rgb(209,229,240)\"],[0.7,\"rgb(146,197,222)\"],[0.8,\"rgb(67,147,195)\"],[0.9,\"rgb(33,102,172)\"],[1.0,\"rgb(5,48,97)\"]],\"line\":{\"color\":\"gray\",\"width\":1},\"opacity\":0.75,\"showscale\":true,\"size\":6},\"mode\":\"markers\",\"name\":\"\",\"showlegend\":false,\"x\":[0.0,1.08,1.65,2.07,2.42,2.65,3.48,3.75,4.08,4.23,4.62,5.1,5.28,5.53,6.43,6.43,6.85,7.07,7.32,7.82,7.97,7.97,8.37,8.37,8.65,9.5,10.38,10.83,11.38,11.58,11.97,11.97,12.2,12.72,14.25,14.53,15.45,15.7,15.82,16.3,16.3,16.55,16.68,16.68,16.92,17.2,17.43,17.6,18.1,18.38,18.75,18.97,18.97,19.37,19.62,20.15,20.6,21.27,21.55,21.55,21.88,22.13,22.53,22.77,23.27,23.27,23.58,23.97,24.85,25.17,25.4,26.47,26.47,26.65,26.77,26.88,27.12,27.92,28.57,29.13,30.12,31.43,32.0,32.5,32.68,33.35,34.45,34.45,34.97,35.15,35.55,36.32,36.32,36.67,36.87,37.53,37.83,38.53,38.7,39.55,39.77,39.77,40.08,40.08,41.03,41.75,41.75,42.45,43.13,43.13,43.27,43.65,43.97,44.62,45.2,45.62,45.62,47.42,47.62,47.62],\"y\":[0.492000013589859,0.5289999842643738,0.5600000023841858,0.5149999856948853,0.5410000085830688,0.5149999856948853,0.4880000054836273,0.5139999985694885,0.527999997138977,0.5630000233650208,0.6370000243186951,0.6970000267028809,0.6690000295639038,0.7260000109672546,0.6729999780654907,0.6430000066757202,0.703000009059906,0.6449999809265137,0.7049999833106995,0.7799999713897705,0.7599999904632568,0.7350000143051147,0.7089999914169312,0.6800000071525574,0.7620000243186951,0.8040000200271606,0.7680000066757202,0.7179999947547913,0.6620000004768372,0.7210000157356262,0.75,0.7730000019073486,0.7239999771118164,0.6669999957084656,0.7329999804496765,0.8019999861717224,0.8410000205039978,0.8240000009536743,0.8059999942779541,0.7670000195503235,0.7419999837875366,0.7889999747276306,0.7680000066757202,0.7440000176429749,0.7900000214576721,0.7459999918937683,0.8119999766349792,0.7720000147819519,0.8149999976158142,0.7960000038146973,0.8519999980926514,0.8360000252723694,0.8180000185966492,0.8700000047683716,0.8389999866485596,0.7820000052452087,0.7350000143051147,0.6759999990463257,0.7400000095367432,0.765999972820282,0.7419999837875366,0.7910000085830688,0.8500000238418579,0.8149999976158142,0.7490000128746033,0.718999981880188,0.7749999761581421,0.6909999847412109,0.593999981880188,0.6639999747276306,0.597000002861023,0.671999990940094,0.6340000033378601,0.6029999852180481,0.6349999904632568,0.7099999785423279,0.6370000243186951,0.5490000247955322,0.4869999885559082,0.4009999930858612,0.3160000145435333,0.20999999344348907,0.2709999978542328,0.3070000112056732,0.20000000298023224,0.30300000309944153,0.22200000286102295,0.257999986410141,0.1589999943971634,0.21799999475479126,0.2919999957084656,0.3319999873638153,0.3790000081062317,0.2849999964237213,0.37700000405311584,0.2800000011920929,0.3720000088214874,0.2720000147819519,0.36800000071525574,0.22100000083446503,0.26100000739097595,0.3089999854564667,0.17800000309944153,0.2160000056028366,0.10899999737739563,0.12700000405311584,0.15800000727176666,0.09300000220537186,0.050999999046325684,0.06599999964237213,0.06400000303983688,0.027000000700354576,0.054999999701976776,0.11299999803304672,0.1809999942779541,0.22599999606609344,0.29600000381469727,0.06199999898672104,0.00800000037997961,0.017999999225139618],\"type\":\"scatter\"}],                        {\"template\":{\"data\":{\"bar\":[{\"error_x\":{\"color\":\"#2a3f5f\"},\"error_y\":{\"color\":\"#2a3f5f\"},\"marker\":{\"line\":{\"color\":\"#E5ECF6\",\"width\":0.5},\"pattern\":{\"fillmode\":\"overlay\",\"size\":10,\"solidity\":0.2}},\"type\":\"bar\"}],\"barpolar\":[{\"marker\":{\"line\":{\"color\":\"#E5ECF6\",\"width\":0.5},\"pattern\":{\"fillmode\":\"overlay\",\"size\":10,\"solidity\":0.2}},\"type\":\"barpolar\"}],\"carpet\":[{\"aaxis\":{\"endlinecolor\":\"#2a3f5f\",\"gridcolor\":\"white\",\"linecolor\":\"white\",\"minorgridcolor\":\"white\",\"startlinecolor\":\"#2a3f5f\"},\"baxis\":{\"endlinecolor\":\"#2a3f5f\",\"gridcolor\":\"white\",\"linecolor\":\"white\",\"minorgridcolor\":\"white\",\"startlinecolor\":\"#2a3f5f\"},\"type\":\"carpet\"}],\"choropleth\":[{\"colorbar\":{\"outlinewidth\":0,\"ticks\":\"\"},\"type\":\"choropleth\"}],\"contour\":[{\"colorbar\":{\"outlinewidth\":0,\"ticks\":\"\"},\"colorscale\":[[0.0,\"#0d0887\"],[0.1111111111111111,\"#46039f\"],[0.2222222222222222,\"#7201a8\"],[0.3333333333333333,\"#9c179e\"],[0.4444444444444444,\"#bd3786\"],[0.5555555555555556,\"#d8576b\"],[0.6666666666666666,\"#ed7953\"],[0.7777777777777778,\"#fb9f3a\"],[0.8888888888888888,\"#fdca26\"],[1.0,\"#f0f921\"]],\"type\":\"contour\"}],\"contourcarpet\":[{\"colorbar\":{\"outlinewidth\":0,\"ticks\":\"\"},\"type\":\"contourcarpet\"}],\"heatmap\":[{\"colorbar\":{\"outlinewidth\":0,\"ticks\":\"\"},\"colorscale\":[[0.0,\"#0d0887\"],[0.1111111111111111,\"#46039f\"],[0.2222222222222222,\"#7201a8\"],[0.3333333333333333,\"#9c179e\"],[0.4444444444444444,\"#bd3786\"],[0.5555555555555556,\"#d8576b\"],[0.6666666666666666,\"#ed7953\"],[0.7777777777777778,\"#fb9f3a\"],[0.8888888888888888,\"#fdca26\"],[1.0,\"#f0f921\"]],\"type\":\"heatmap\"}],\"heatmapgl\":[{\"colorbar\":{\"outlinewidth\":0,\"ticks\":\"\"},\"colorscale\":[[0.0,\"#0d0887\"],[0.1111111111111111,\"#46039f\"],[0.2222222222222222,\"#7201a8\"],[0.3333333333333333,\"#9c179e\"],[0.4444444444444444,\"#bd3786\"],[0.5555555555555556,\"#d8576b\"],[0.6666666666666666,\"#ed7953\"],[0.7777777777777778,\"#fb9f3a\"],[0.8888888888888888,\"#fdca26\"],[1.0,\"#f0f921\"]],\"type\":\"heatmapgl\"}],\"histogram\":[{\"marker\":{\"pattern\":{\"fillmode\":\"overlay\",\"size\":10,\"solidity\":0.2}},\"type\":\"histogram\"}],\"histogram2d\":[{\"colorbar\":{\"outlinewidth\":0,\"ticks\":\"\"},\"colorscale\":[[0.0,\"#0d0887\"],[0.1111111111111111,\"#46039f\"],[0.2222222222222222,\"#7201a8\"],[0.3333333333333333,\"#9c179e\"],[0.4444444444444444,\"#bd3786\"],[0.5555555555555556,\"#d8576b\"],[0.6666666666666666,\"#ed7953\"],[0.7777777777777778,\"#fb9f3a\"],[0.8888888888888888,\"#fdca26\"],[1.0,\"#f0f921\"]],\"type\":\"histogram2d\"}],\"histogram2dcontour\":[{\"colorbar\":{\"outlinewidth\":0,\"ticks\":\"\"},\"colorscale\":[[0.0,\"#0d0887\"],[0.1111111111111111,\"#46039f\"],[0.2222222222222222,\"#7201a8\"],[0.3333333333333333,\"#9c179e\"],[0.4444444444444444,\"#bd3786\"],[0.5555555555555556,\"#d8576b\"],[0.6666666666666666,\"#ed7953\"],[0.7777777777777778,\"#fb9f3a\"],[0.8888888888888888,\"#fdca26\"],[1.0,\"#f0f921\"]],\"type\":\"histogram2dcontour\"}],\"mesh3d\":[{\"colorbar\":{\"outlinewidth\":0,\"ticks\":\"\"},\"type\":\"mesh3d\"}],\"parcoords\":[{\"line\":{\"colorbar\":{\"outlinewidth\":0,\"ticks\":\"\"}},\"type\":\"parcoords\"}],\"pie\":[{\"automargin\":true,\"type\":\"pie\"}],\"scatter\":[{\"marker\":{\"colorbar\":{\"outlinewidth\":0,\"ticks\":\"\"}},\"type\":\"scatter\"}],\"scatter3d\":[{\"line\":{\"colorbar\":{\"outlinewidth\":0,\"ticks\":\"\"}},\"marker\":{\"colorbar\":{\"outlinewidth\":0,\"ticks\":\"\"}},\"type\":\"scatter3d\"}],\"scattercarpet\":[{\"marker\":{\"colorbar\":{\"outlinewidth\":0,\"ticks\":\"\"}},\"type\":\"scattercarpet\"}],\"scattergeo\":[{\"marker\":{\"colorbar\":{\"outlinewidth\":0,\"ticks\":\"\"}},\"type\":\"scattergeo\"}],\"scattergl\":[{\"marker\":{\"colorbar\":{\"outlinewidth\":0,\"ticks\":\"\"}},\"type\":\"scattergl\"}],\"scattermapbox\":[{\"marker\":{\"colorbar\":{\"outlinewidth\":0,\"ticks\":\"\"}},\"type\":\"scattermapbox\"}],\"scatterpolar\":[{\"marker\":{\"colorbar\":{\"outlinewidth\":0,\"ticks\":\"\"}},\"type\":\"scatterpolar\"}],\"scatterpolargl\":[{\"marker\":{\"colorbar\":{\"outlinewidth\":0,\"ticks\":\"\"}},\"type\":\"scatterpolargl\"}],\"scatterternary\":[{\"marker\":{\"colorbar\":{\"outlinewidth\":0,\"ticks\":\"\"}},\"type\":\"scatterternary\"}],\"surface\":[{\"colorbar\":{\"outlinewidth\":0,\"ticks\":\"\"},\"colorscale\":[[0.0,\"#0d0887\"],[0.1111111111111111,\"#46039f\"],[0.2222222222222222,\"#7201a8\"],[0.3333333333333333,\"#9c179e\"],[0.4444444444444444,\"#bd3786\"],[0.5555555555555556,\"#d8576b\"],[0.6666666666666666,\"#ed7953\"],[0.7777777777777778,\"#fb9f3a\"],[0.8888888888888888,\"#fdca26\"],[1.0,\"#f0f921\"]],\"type\":\"surface\"}],\"table\":[{\"cells\":{\"fill\":{\"color\":\"#EBF0F8\"},\"line\":{\"color\":\"white\"}},\"header\":{\"fill\":{\"color\":\"#C8D4E3\"},\"line\":{\"color\":\"white\"}},\"type\":\"table\"}]},\"layout\":{\"annotationdefaults\":{\"arrowcolor\":\"#2a3f5f\",\"arrowhead\":0,\"arrowwidth\":1},\"autotypenumbers\":\"strict\",\"coloraxis\":{\"colorbar\":{\"outlinewidth\":0,\"ticks\":\"\"}},\"colorscale\":{\"diverging\":[[0,\"#8e0152\"],[0.1,\"#c51b7d\"],[0.2,\"#de77ae\"],[0.3,\"#f1b6da\"],[0.4,\"#fde0ef\"],[0.5,\"#f7f7f7\"],[0.6,\"#e6f5d0\"],[0.7,\"#b8e186\"],[0.8,\"#7fbc41\"],[0.9,\"#4d9221\"],[1,\"#276419\"]],\"sequential\":[[0.0,\"#0d0887\"],[0.1111111111111111,\"#46039f\"],[0.2222222222222222,\"#7201a8\"],[0.3333333333333333,\"#9c179e\"],[0.4444444444444444,\"#bd3786\"],[0.5555555555555556,\"#d8576b\"],[0.6666666666666666,\"#ed7953\"],[0.7777777777777778,\"#fb9f3a\"],[0.8888888888888888,\"#fdca26\"],[1.0,\"#f0f921\"]],\"sequentialminus\":[[0.0,\"#0d0887\"],[0.1111111111111111,\"#46039f\"],[0.2222222222222222,\"#7201a8\"],[0.3333333333333333,\"#9c179e\"],[0.4444444444444444,\"#bd3786\"],[0.5555555555555556,\"#d8576b\"],[0.6666666666666666,\"#ed7953\"],[0.7777777777777778,\"#fb9f3a\"],[0.8888888888888888,\"#fdca26\"],[1.0,\"#f0f921\"]]},\"colorway\":[\"#636efa\",\"#EF553B\",\"#00cc96\",\"#ab63fa\",\"#FFA15A\",\"#19d3f3\",\"#FF6692\",\"#B6E880\",\"#FF97FF\",\"#FECB52\"],\"font\":{\"color\":\"#2a3f5f\"},\"geo\":{\"bgcolor\":\"white\",\"lakecolor\":\"white\",\"landcolor\":\"#E5ECF6\",\"showlakes\":true,\"showland\":true,\"subunitcolor\":\"white\"},\"hoverlabel\":{\"align\":\"left\"},\"hovermode\":\"closest\",\"mapbox\":{\"style\":\"light\"},\"paper_bgcolor\":\"white\",\"plot_bgcolor\":\"#E5ECF6\",\"polar\":{\"angularaxis\":{\"gridcolor\":\"white\",\"linecolor\":\"white\",\"ticks\":\"\"},\"bgcolor\":\"#E5ECF6\",\"radialaxis\":{\"gridcolor\":\"white\",\"linecolor\":\"white\",\"ticks\":\"\"}},\"scene\":{\"xaxis\":{\"backgroundcolor\":\"#E5ECF6\",\"gridcolor\":\"white\",\"gridwidth\":2,\"linecolor\":\"white\",\"showbackground\":true,\"ticks\":\"\",\"zerolinecolor\":\"white\"},\"yaxis\":{\"backgroundcolor\":\"#E5ECF6\",\"gridcolor\":\"white\",\"gridwidth\":2,\"linecolor\":\"white\",\"showbackground\":true,\"ticks\":\"\",\"zerolinecolor\":\"white\"},\"zaxis\":{\"backgroundcolor\":\"#E5ECF6\",\"gridcolor\":\"white\",\"gridwidth\":2,\"linecolor\":\"white\",\"showbackground\":true,\"ticks\":\"\",\"zerolinecolor\":\"white\"}},\"shapedefaults\":{\"line\":{\"color\":\"#2a3f5f\"}},\"ternary\":{\"aaxis\":{\"gridcolor\":\"white\",\"linecolor\":\"white\",\"ticks\":\"\"},\"baxis\":{\"gridcolor\":\"white\",\"linecolor\":\"white\",\"ticks\":\"\"},\"bgcolor\":\"#E5ECF6\",\"caxis\":{\"gridcolor\":\"white\",\"linecolor\":\"white\",\"ticks\":\"\"}},\"title\":{\"x\":0.05},\"xaxis\":{\"automargin\":true,\"gridcolor\":\"white\",\"linecolor\":\"white\",\"ticks\":\"\",\"title\":{\"standoff\":15},\"zerolinecolor\":\"white\",\"zerolinewidth\":2},\"yaxis\":{\"automargin\":true,\"gridcolor\":\"white\",\"linecolor\":\"white\",\"ticks\":\"\",\"title\":{\"standoff\":15},\"zerolinecolor\":\"white\",\"zerolinewidth\":2}}},\"width\":1000,\"height\":600,\"legend\":{\"title\":{\"text\":\"Legend Label\"}},\"title\":{\"text\":\"BKN In Game Win Probability - MIA @ BKN (2022-03-03)\"},\"coloraxis\":{\"colorbar\":{\"title\":{\"text\":\"BKN Lead\"}}},\"xaxis\":{\"title\":{\"text\":\"Time\"},\"tickmode\":\"linear\",\"tick0\":0,\"dtick\":12},\"yaxis\":{\"title\":{\"text\":\"BKN Win Prob.\"},\"range\":[-0.05,1.05]}},                        {\"responsive\": true}                    ).then(function(){\n",
       "                            \n",
       "var gd = document.getElementById('a38b763a-4961-4008-a3f6-afd410ffe3c5');\n",
       "var x = new MutationObserver(function (mutations, observer) {{\n",
       "        var display = window.getComputedStyle(gd).display;\n",
       "        if (!display || display === 'none') {{\n",
       "            console.log([gd, 'removed!']);\n",
       "            Plotly.purge(gd);\n",
       "            observer.disconnect();\n",
       "        }}\n",
       "}});\n",
       "\n",
       "// Listen for the removal of the full notebook cells\n",
       "var notebookContainer = gd.closest('#notebook-container');\n",
       "if (notebookContainer) {{\n",
       "    x.observe(notebookContainer, {childList: true});\n",
       "}}\n",
       "\n",
       "// Listen for the clearing of the current output cell\n",
       "var outputEl = gd.closest('.output');\n",
       "if (outputEl) {{\n",
       "    x.observe(outputEl, {childList: true});\n",
       "}}\n",
       "\n",
       "                        })                };                });            </script>        </div>"
      ]
     },
     "metadata": {},
     "output_type": "display_data"
    }
   ],
   "source": [
    "fig = go.Figure()\n",
    "fig.add_trace(go.Scatter(x=game_sbs['time'], y=home_probs, line_color=\"gray\", name=\"\", mode='lines', showlegend=False))\n",
    "fig.add_trace(go.Scatter(x=game_sbs['time'], y=home_probs, name=\"\", mode='markers', marker_showscale=True, showlegend=False,\n",
    "                         marker_color=game_sbs['home_lead'], marker_colorscale=\"RdBu\", marker_size=6, marker_opacity=0.75, marker_line_width=1, marker_line_color=\"gray\"))\n",
    "fig.update_layout(width=1000, height=600)\n",
    "fig.update_layout(legend_title_text = \"Legend Label\")\n",
    "fig.update_layout(title=f\"{home} In Game Win Probability - {vis} @ {home} ({game_date})\",)\n",
    "fig.update_layout(coloraxis_colorbar={'title': f\"{home} Lead\"}) # TODO: why doesn't this work (note; could also add home lead as a label in the clickable thing)\n",
    "fig.update_xaxes(title_text=\"Time\")\n",
    "fig.update_yaxes(title_text=f\"{home} Win Prob.\", range=(-.05, 1.05))\n",
    "fig.update_layout(\n",
    "    xaxis = dict(\n",
    "        tickmode = 'linear',\n",
    "        tick0 = 0,\n",
    "        dtick = 12\n",
    "    )\n",
    ")\n",
    "fig.show()\n"
   ]
  },
  {
   "cell_type": "code",
   "execution_count": 349,
   "id": "6f6edd10-8e16-471f-8d2e-0f0e467fe140",
   "metadata": {},
   "outputs": [],
   "source": [
    "pio.write_html(fig, file='_includes/figure.html', auto_open=False)"
   ]
  }
 ],
 "metadata": {
  "kernelspec": {
   "display_name": "Python 3 (ipykernel)",
   "language": "python",
   "name": "python3"
  },
  "language_info": {
   "codemirror_mode": {
    "name": "ipython",
    "version": 3
   },
   "file_extension": ".py",
   "mimetype": "text/x-python",
   "name": "python",
   "nbconvert_exporter": "python",
   "pygments_lexer": "ipython3",
   "version": "3.9.7"
  }
 },
 "nbformat": 4,
 "nbformat_minor": 5
}
