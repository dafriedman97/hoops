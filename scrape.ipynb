{
 "cells": [
  {
   "cell_type": "code",
   "execution_count": 1,
   "id": "123d23dc-ac22-4377-9558-ec50edf98501",
   "metadata": {},
   "outputs": [],
   "source": [
    "import os \n",
    "import sys\n",
    "from pathlib import Path\n",
    "import argparse\n",
    "from bs4 import BeautifulSoup\n",
    "import json\n",
    "import requests\n",
    "import time\n",
    "from datetime import datetime\n",
    "import pandas as pd\n",
    "import numpy as np \n"
   ]
  },
  {
   "cell_type": "code",
   "execution_count": 59,
   "id": "17a881e6-f8b0-4d30-83a3-f1aa0a2e36c1",
   "metadata": {},
   "outputs": [],
   "source": [
    "url = \"https://sportsbook.draftkings.com/leagues/basketball/88670846\"\n",
    "page = requests.get(url)\n",
    "soup = BeautifulSoup(page.content, \"html.parser\")\n",
    "# # # soup2 =  BeautifulSoup(page.content, \"html.parser\")"
   ]
  },
  {
   "cell_type": "code",
   "execution_count": 60,
   "id": "7162def2-16b0-4b8a-9b32-0274e4fb2b20",
   "metadata": {},
   "outputs": [
    {
     "data": {
      "text/plain": [
       "[<span>Today</span>]"
      ]
     },
     "execution_count": 60,
     "metadata": {},
     "output_type": "execute_result"
    }
   ],
   "source": [
    "soup.find_all(\"div\", class_=\"parlay-card-10-a\")[0].find_all(\"span\", text=\"Today\")\n"
   ]
  },
  {
   "cell_type": "code",
   "execution_count": null,
   "id": "62d5e927-6110-4d3e-a046-ba684986b35e",
   "metadata": {},
   "outputs": [],
   "source": []
  },
  {
   "cell_type": "code",
   "execution_count": 61,
   "id": "e17c985a-ca7c-49c9-a3fe-25571aa2c93d",
   "metadata": {},
   "outputs": [
    {
     "name": "stdout",
     "output_type": "stream",
     "text": [
      "today lines\n"
     ]
    }
   ],
   "source": [
    "page = requests.get(url)\n",
    "\n",
    "soup = BeautifulSoup(page.content, \"html.parser\")\n",
    "\n",
    "lines_by_day = soup.find_all(\"div\", class_=\"parlay-card-10-a\")\n",
    "if len(lines_by_day[0].find_all(\"span\", text=\"Today\")) > 0: # we have lines left for today\n",
    "    print(\"today lines\")\n",
    "    todays_lines = lines_by_day[0]\n",
    "else: # no more lines for today (or potentially it's past midnight and the lines are listed as yesterday's) \n",
    "    hour = datetime.now().hour\n",
    "    if hour < 3 and len(lines_by_day) > 1: # past midnight and we have two sections of lines\n",
    "        # TODO: should replace <len(lines_by_day)> with some search for a tag that the first section is a date (representing the day that just finished)\n",
    "        todays_lines = lines_by_day[0]\n",
    "    else:\n",
    "        print(\"no more lines\")\n",
    "        pass\n",
    "    "
   ]
  },
  {
   "cell_type": "code",
   "execution_count": 33,
   "id": "00a24c80-7d89-435f-84e8-96c6f5a8b3ca",
   "metadata": {},
   "outputs": [
    {
     "data": {
      "text/plain": [
       "[]"
      ]
     },
     "execution_count": 33,
     "metadata": {},
     "output_type": "execute_result"
    }
   ],
   "source": [
    "lines_by_day[0].find_all(\"span\", text=\"Today\")\n"
   ]
  },
  {
   "cell_type": "code",
   "execution_count": 76,
   "id": "91cc68d1-9d21-4ac1-be9b-9aa4c5ca0921",
   "metadata": {},
   "outputs": [],
   "source": [
    "## Parse the page\n",
    "page = requests.get(url)\n",
    "soup = BeautifulSoup(page.content, \"html.parser\")\n",
    "\n",
    "# ## Get today's lines\n",
    "# lines_by_day = soup.find_all(\"div\", class_=\"parlay-card-10-a\")\n",
    "# if len(lines_by_day[0].find_all(\"span\", text=\"Today\")) > 0: # we have lines left for today\n",
    "#     todays_lines = lines_by_day[0]\n",
    "# else: # no more lines for today (or potentially it's past midnight and the lines are listed as yesterday's) \n",
    "#     hour = datetime.now().hour\n",
    "#     if hour < 3 and len(lines_by_day) > 1: # past midnight and we have two sections of lines\n",
    "#         # TODO: should replace <len(lines_by_day)> with some search for a tag that the first section is a date (representing the day that just finished)\n",
    "#         todays_lines = lines_by_day[0]\n",
    "#     else:\n",
    "#         print(\"no more lines\")\n",
    "#         break\n",
    "\n",
    "## Get today's lines\n",
    "x = soup.find_all(\"div\", class_=\"parlay-card-10-a\")[1]\n",
    "\n",
    "## Get all Lines\n",
    "lines = x.find_all(\"tbody\", class_=\"sportsbook-table__body\")[0].find_all(\"tr\")\n",
    "\n",
    "## Get the teams\n",
    "teams = [line.find(\"div\", class_=\"event-cell__name-text\").text.split(\" \")[0] for line in lines]\n",
    "\n",
    "## Get the time\n",
    "clocks = [line.find(\"div\", class_='event-cell__clock') for line in lines[::2]]\n",
    "times = [clock.find_all(\"span\")[0].string if clock else None for clock in clocks]\n",
    "quarters = [clock.find_all(\"span\")[1].string[0] if clock else None for clock in clocks]\n",
    "\n",
    "## Get the scores\n",
    "scores = [line.find(\"span\", class_=\"event-cell__score\") for line in lines]\n",
    "scores = [score.text if score else None for score in scores]\n",
    "\n",
    "## Get the lines\n",
    "mlines = [line.find(\"span\", class_=\"sportsbook-odds american no-margin default-color\") for line in lines]        \n",
    "mlines = [line.text.replace(\"+\", \"\") if line else None for line in mlines]\n"
   ]
  }
 ],
 "metadata": {
  "kernelspec": {
   "display_name": "Python 3 (ipykernel)",
   "language": "python",
   "name": "python3"
  },
  "language_info": {
   "codemirror_mode": {
    "name": "ipython",
    "version": 3
   },
   "file_extension": ".py",
   "mimetype": "text/x-python",
   "name": "python",
   "nbconvert_exporter": "python",
   "pygments_lexer": "ipython3",
   "version": "3.9.7"
  }
 },
 "nbformat": 4,
 "nbformat_minor": 5
}
